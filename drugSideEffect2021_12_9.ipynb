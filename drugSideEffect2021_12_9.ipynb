{
 "cells": [
  {
   "cell_type": "code",
   "execution_count": 89,
   "id": "e7f94efb-2888-4492-a366-58fcfb77ce87",
   "metadata": {},
   "outputs": [],
   "source": [
    "import pandas as pd\n",
    "import requests\n",
    "from bs4 import BeautifulSoup\n",
    "from selenium import webdriver\n",
    "from selenium.webdriver.common.keys import Keys\n",
    "from selenium.webdriver.common.action_chains import ActionChains\n",
    "from selenium.webdriver.support.ui import WebDriverWait\n",
    "from selenium.webdriver.support import expected_conditions as EC\n",
    "from selenium.webdriver.common.by import By\n",
    "from selenium.webdriver.support.select import Select\n",
    "from time import sleep\n",
    "from webdriver_manager.chrome import ChromeDriverManager\n",
    "driver = webdriver.Chrome('/Users/glicia/python/chromedriver')\n",
    "url = 'https://www.drugs.com/sfx/'\n",
    "driver.get(url)"
   ]
  },
  {
   "cell_type": "code",
   "execution_count": 90,
   "id": "a346ee1b-b16a-4807-8634-79bdc663bcb7",
   "metadata": {},
   "outputs": [],
   "source": [
    "#この範囲は変更しない\n",
    "elem_range = driver.find_elements_by_class_name('ddc-clearfix')[1]"
   ]
  },
  {
   "cell_type": "code",
   "execution_count": 91,
   "id": "6e24626e-a7a0-4c94-b40f-2068c6724c1f",
   "metadata": {},
   "outputs": [],
   "source": [
    "#画面内にelementを配置し、クリックして別タブで開く\n",
    "#練習用として、１つだけ動かす\n",
    "elem = elem_range.find_elements_by_tag_name('li')[0]\n",
    "driver.execute_script(\"arguments[0].scrollIntoView();\", elem)\n",
    "\n"
   ]
  },
  {
   "cell_type": "code",
   "execution_count": 93,
   "id": "508584d8-8e05-47be-b302-40b2a81d9ba3",
   "metadata": {},
   "outputs": [],
   "source": [
    "actions = ActionChains(driver)\n",
    "actions.key_down(Keys.COMMAND)\n",
    "actions.click(elem)\n",
    "actions.perform()\n",
    "driver.switch_to.window(driver.window_handles[1])"
   ]
  },
  {
   "cell_type": "code",
   "execution_count": 94,
   "id": "4aa430a6-b741-4ad6-a629-cc1aa23a97e0",
   "metadata": {},
   "outputs": [],
   "source": [
    "dn_range = driver.find_element_by_class_name('ddc-list-column-2')"
   ]
  },
  {
   "cell_type": "code",
   "execution_count": 108,
   "id": "271b8579-aa82-4e72-880d-0714e7db8185",
   "metadata": {},
   "outputs": [],
   "source": [
    "dn = dn_range.find_elements_by_tag_name('li')[1]"
   ]
  },
  {
   "cell_type": "code",
   "execution_count": 109,
   "id": "71fed092-717e-4f4d-aba8-98858b13054e",
   "metadata": {},
   "outputs": [
    {
     "data": {
      "text/plain": [
       "'A-200 Lice Treatment'"
      ]
     },
     "execution_count": 109,
     "metadata": {},
     "output_type": "execute_result"
    }
   ],
   "source": [
    "dn.text"
   ]
  },
  {
   "cell_type": "code",
   "execution_count": 110,
   "id": "5ae3c245-0dc6-4f42-ae65-6cef984c7726",
   "metadata": {},
   "outputs": [],
   "source": [
    "atag = dn.find_element_by_tag_name('a')"
   ]
  },
  {
   "cell_type": "code",
   "execution_count": 111,
   "id": "d958e0d2-4e14-4642-b6d9-a0ed67e5316b",
   "metadata": {},
   "outputs": [
    {
     "data": {
      "text/plain": [
       "<selenium.webdriver.remote.webelement.WebElement (session=\"a3cd9016e5521030fecbb6a3d9865a44\", element=\"686a1ed3-d462-42a8-a4bf-2eb2c495b32f\")>"
      ]
     },
     "execution_count": 111,
     "metadata": {},
     "output_type": "execute_result"
    }
   ],
   "source": [
    "atag"
   ]
  },
  {
   "cell_type": "code",
   "execution_count": 112,
   "id": "6821af5e-323f-4d21-b5d2-e22ff6d448f7",
   "metadata": {},
   "outputs": [],
   "source": [
    "new_url = atag.get_attribute('href')"
   ]
  },
  {
   "cell_type": "code",
   "execution_count": 113,
   "id": "f43ee6cb-aa76-4c17-b0f7-975426a24458",
   "metadata": {},
   "outputs": [
    {
     "data": {
      "text/plain": [
       "'https://www.drugs.com/sfx/a-200-lice-treatment-side-effects.html'"
      ]
     },
     "execution_count": 113,
     "metadata": {},
     "output_type": "execute_result"
    }
   ],
   "source": [
    "new_url"
   ]
  },
  {
   "cell_type": "code",
   "execution_count": 114,
   "id": "d1e06b8d-1d36-4d7b-854c-69ca1a88adb9",
   "metadata": {},
   "outputs": [],
   "source": [
    "res = requests.get(new_url)"
   ]
  },
  {
   "cell_type": "code",
   "execution_count": 115,
   "id": "6abba567-4be3-42f2-9e8a-9164d17f6048",
   "metadata": {},
   "outputs": [],
   "source": [
    "soup = BeautifulSoup(res.text, 'html.parser')"
   ]
  },
  {
   "cell_type": "code",
   "execution_count": 106,
   "id": "42b7d111-6fd3-414e-864c-ae8d8fe5ff3a",
   "metadata": {},
   "outputs": [],
   "source": [
    "#soup"
   ]
  },
  {
   "cell_type": "code",
   "execution_count": 161,
   "id": "0ecdf75d-718e-42a4-b2b5-8e7712556e15",
   "metadata": {},
   "outputs": [],
   "source": [
    "#print(soup.prettify())"
   ]
  },
  {
   "cell_type": "code",
   "execution_count": 162,
   "id": "63a4eca0-62e5-4c58-95fd-4f163174a2f9",
   "metadata": {},
   "outputs": [],
   "source": [
    "def print_element(elem):\n",
    "    if isinstance(elem, bs4.NavigableString):\n",
    "        print(type(elem), elem.string)\n",
    "    else:\n",
    "        print(type(elem), elem.name)"
   ]
  },
  {
   "cell_type": "code",
   "execution_count": 163,
   "id": "96a8a309-66b1-4493-bff4-aacff420f1d8",
   "metadata": {},
   "outputs": [
    {
     "ename": "NameError",
     "evalue": "name 'bs4' is not defined",
     "output_type": "error",
     "traceback": [
      "\u001b[0;31m---------------------------------------------------------------------------\u001b[0m",
      "\u001b[0;31mNameError\u001b[0m                                 Traceback (most recent call last)",
      "\u001b[0;32m<ipython-input-163-19def19dbe45>\u001b[0m in \u001b[0;36m<module>\u001b[0;34m\u001b[0m\n\u001b[1;32m      1\u001b[0m \u001b[0mtag\u001b[0m \u001b[0;34m=\u001b[0m \u001b[0msoup\u001b[0m\u001b[0;34m.\u001b[0m\u001b[0mbody\u001b[0m\u001b[0;34m.\u001b[0m\u001b[0mh1\u001b[0m\u001b[0;34m\u001b[0m\u001b[0;34m\u001b[0m\u001b[0m\n\u001b[0;32m----> 2\u001b[0;31m \u001b[0mprint_element\u001b[0m\u001b[0;34m(\u001b[0m\u001b[0mtag\u001b[0m\u001b[0;34m.\u001b[0m\u001b[0mparent\u001b[0m\u001b[0;34m)\u001b[0m\u001b[0;34m\u001b[0m\u001b[0;34m\u001b[0m\u001b[0m\n\u001b[0m",
      "\u001b[0;32m<ipython-input-162-19ed25174de0>\u001b[0m in \u001b[0;36mprint_element\u001b[0;34m(elem)\u001b[0m\n\u001b[1;32m      1\u001b[0m \u001b[0;32mdef\u001b[0m \u001b[0mprint_element\u001b[0m\u001b[0;34m(\u001b[0m\u001b[0melem\u001b[0m\u001b[0;34m)\u001b[0m\u001b[0;34m:\u001b[0m\u001b[0;34m\u001b[0m\u001b[0;34m\u001b[0m\u001b[0m\n\u001b[0;32m----> 2\u001b[0;31m     \u001b[0;32mif\u001b[0m \u001b[0misinstance\u001b[0m\u001b[0;34m(\u001b[0m\u001b[0melem\u001b[0m\u001b[0;34m,\u001b[0m \u001b[0mbs4\u001b[0m\u001b[0;34m.\u001b[0m\u001b[0mNavigableString\u001b[0m\u001b[0;34m)\u001b[0m\u001b[0;34m:\u001b[0m\u001b[0;34m\u001b[0m\u001b[0;34m\u001b[0m\u001b[0m\n\u001b[0m\u001b[1;32m      3\u001b[0m         \u001b[0mprint\u001b[0m\u001b[0;34m(\u001b[0m\u001b[0mtype\u001b[0m\u001b[0;34m(\u001b[0m\u001b[0melem\u001b[0m\u001b[0;34m)\u001b[0m\u001b[0;34m,\u001b[0m \u001b[0melem\u001b[0m\u001b[0;34m.\u001b[0m\u001b[0mstring\u001b[0m\u001b[0;34m)\u001b[0m\u001b[0;34m\u001b[0m\u001b[0;34m\u001b[0m\u001b[0m\n\u001b[1;32m      4\u001b[0m     \u001b[0;32melse\u001b[0m\u001b[0;34m:\u001b[0m\u001b[0;34m\u001b[0m\u001b[0;34m\u001b[0m\u001b[0m\n\u001b[1;32m      5\u001b[0m         \u001b[0mprint\u001b[0m\u001b[0;34m(\u001b[0m\u001b[0mtype\u001b[0m\u001b[0;34m(\u001b[0m\u001b[0melem\u001b[0m\u001b[0;34m)\u001b[0m\u001b[0;34m,\u001b[0m \u001b[0melem\u001b[0m\u001b[0;34m.\u001b[0m\u001b[0mname\u001b[0m\u001b[0;34m)\u001b[0m\u001b[0;34m\u001b[0m\u001b[0;34m\u001b[0m\u001b[0m\n",
      "\u001b[0;31mNameError\u001b[0m: name 'bs4' is not defined"
     ]
    }
   ],
   "source": [
    "tag = soup.body.h1\n",
    "print_element(tag.parent)"
   ]
  },
  {
   "cell_type": "code",
   "execution_count": 118,
   "id": "127aa77e-d555-4ac8-b3bd-bcc18e3889cb",
   "metadata": {},
   "outputs": [],
   "source": [
    "result = []"
   ]
  },
  {
   "cell_type": "code",
   "execution_count": 159,
   "id": "e16417ba-abfc-4468-a04a-cec1eb7f1a24",
   "metadata": {},
   "outputs": [],
   "source": [
    "#soup.find_all('h3')[0]"
   ]
  },
  {
   "cell_type": "code",
   "execution_count": 158,
   "id": "df6ab0e4-0c42-4881-b7e0-2578e4d5b720",
   "metadata": {},
   "outputs": [],
   "source": [
    "#len(soup.find_all('h3'))"
   ]
  },
  {
   "cell_type": "code",
   "execution_count": 157,
   "id": "f1921487-2947-4c22-b6b7-9871ce264411",
   "metadata": {},
   "outputs": [],
   "source": [
    "#soup.find_all('i')"
   ]
  },
  {
   "cell_type": "code",
   "execution_count": 155,
   "id": "ca82370a-4d19-4790-a46e-d519747d2af3",
   "metadata": {},
   "outputs": [],
   "source": [
    "#soup.find_all('ul')"
   ]
  },
  {
   "cell_type": "code",
   "execution_count": 148,
   "id": "c39e21b0-2055-4626-a2a6-b0f920bbf611",
   "metadata": {},
   "outputs": [],
   "source": [
    "ns = h3.findNextSiblings()"
   ]
  },
  {
   "cell_type": "code",
   "execution_count": 156,
   "id": "6b91d18f-ec3b-42c7-ae26-d9430062bb68",
   "metadata": {},
   "outputs": [],
   "source": [
    "#print(ns)"
   ]
  },
  {
   "cell_type": "code",
   "execution_count": null,
   "id": "94a668bf-5397-4fff-9489-b0ba1971a72e",
   "metadata": {},
   "outputs": [],
   "source": [
    "driver.switch_to.window(driver.window_handles[1])"
   ]
  },
  {
   "cell_type": "code",
   "execution_count": 39,
   "id": "4795a3a2-939a-4b34-8dbb-b093db6e4881",
   "metadata": {},
   "outputs": [],
   "source": [
    "driver.close()\n",
    "driver.switch_to.window(driver.window_handles[0])"
   ]
  },
  {
   "cell_type": "code",
   "execution_count": 164,
   "id": "36ec90aa-ac87-4375-adaf-cfac1db716e8",
   "metadata": {},
   "outputs": [],
   "source": [
    "driver.quit()"
   ]
  },
  {
   "cell_type": "code",
   "execution_count": null,
   "id": "e4bd4120-f717-4362-bf46-93349afa972a",
   "metadata": {},
   "outputs": [],
   "source": []
  }
 ],
 "metadata": {
  "kernelspec": {
   "display_name": "Python 3",
   "language": "python",
   "name": "python3"
  },
  "language_info": {
   "codemirror_mode": {
    "name": "ipython",
    "version": 3
   },
   "file_extension": ".py",
   "mimetype": "text/x-python",
   "name": "python",
   "nbconvert_exporter": "python",
   "pygments_lexer": "ipython3",
   "version": "3.8.8"
  }
 },
 "nbformat": 4,
 "nbformat_minor": 5
}

{
 "cells": [
  {
   "cell_type": "code",
   "execution_count": 122,
   "id": "2c51ee89-82f7-4138-9742-661db4cd6b56",
   "metadata": {},
   "outputs": [],
   "source": [
    "import re\n",
    "import os\n",
    "import pandas as pd\n",
    "import requests\n",
    "from bs4 import BeautifulSoup\n",
    "from selenium import webdriver\n",
    "from selenium.webdriver.common.keys import Keys\n",
    "from selenium.webdriver.common.action_chains import ActionChains\n",
    "from selenium.webdriver.support.ui import WebDriverWait\n",
    "from selenium.webdriver.support import expected_conditions as EC\n",
    "from selenium.webdriver.common.by import By\n",
    "from selenium.webdriver.support.select import Select\n",
    "from time import sleep\n",
    "from webdriver_manager.chrome import ChromeDriverManager\n",
    "driver = webdriver.Chrome('/Users/glicia/python/chromedriver')"
   ]
  },
  {
   "cell_type": "code",
   "execution_count": 123,
   "id": "02e1dd9b-60c3-4fd4-825f-83782ac58bd2",
   "metadata": {},
   "outputs": [],
   "source": [
    "url = 'https://www.drugs.com/sfx-r1.html'\n",
    "##########\n",
    "\n",
    "\n",
    "driver.get(url)"
   ]
  },
  {
   "cell_type": "code",
   "execution_count": 124,
   "id": "12fab353-f38f-4151-b419-b81308107116",
   "metadata": {},
   "outputs": [],
   "source": [
    "repatha = driver.find_element_by_css_selector('#content > div.contentBox > ul.ddc-list-column-2 > li:nth-child(82) > a').get_attribute('href')"
   ]
  },
  {
   "cell_type": "code",
   "execution_count": 353,
   "id": "f0ad55ef-c784-46c2-84a5-f97eb1d014d8",
   "metadata": {},
   "outputs": [],
   "source": [
    "res = requests.get(repatha)\n",
    "soup = BeautifulSoup(res.text, 'html.parser')"
   ]
  },
  {
   "cell_type": "code",
   "execution_count": 354,
   "id": "f1bbbdae-a8b1-4cdc-ac1f-9daaf08ff159",
   "metadata": {},
   "outputs": [],
   "source": [
    "soup.find('h3').name = 'nt'"
   ]
  },
  {
   "cell_type": "code",
   "execution_count": 355,
   "id": "d07e0935-d9e7-4676-8513-845feae5b255",
   "metadata": {},
   "outputs": [],
   "source": [
    "soup.find('h3').name = 'nt'"
   ]
  },
  {
   "cell_type": "code",
   "execution_count": 330,
   "id": "6600c4bd-a950-4dd6-bbe2-e7a4577ac10c",
   "metadata": {},
   "outputs": [],
   "source": [
    "soup.find(\"div\", class_='ddc-related-link').name = 'hoge'"
   ]
  },
  {
   "cell_type": "code",
   "execution_count": 346,
   "id": "42d44ec9-dc2b-42cc-b8eb-2d9138f3a80a",
   "metadata": {},
   "outputs": [
    {
     "ename": "AttributeError",
     "evalue": "'NoneType' object has no attribute 'decompose'",
     "output_type": "error",
     "traceback": [
      "\u001b[0;31m---------------------------------------------------------------------------\u001b[0m",
      "\u001b[0;31mAttributeError\u001b[0m                            Traceback (most recent call last)",
      "\u001b[0;32m<ipython-input-346-f5eb60662377>\u001b[0m in \u001b[0;36m<module>\u001b[0;34m\u001b[0m\n\u001b[0;32m----> 1\u001b[0;31m \u001b[0msoup\u001b[0m\u001b[0;34m.\u001b[0m\u001b[0mfind\u001b[0m\u001b[0;34m(\u001b[0m\u001b[0;34m\"script\"\u001b[0m\u001b[0;34m)\u001b[0m\u001b[0;34m.\u001b[0m\u001b[0mdecompose\u001b[0m\u001b[0;34m(\u001b[0m\u001b[0;34m)\u001b[0m\u001b[0;34m\u001b[0m\u001b[0;34m\u001b[0m\u001b[0m\n\u001b[0m",
      "\u001b[0;31mAttributeError\u001b[0m: 'NoneType' object has no attribute 'decompose'"
     ]
    }
   ],
   "source": [
    "soup.find(\"script\").decompose()"
   ]
  },
  {
   "cell_type": "code",
   "execution_count": 289,
   "id": "afa1ae39-d248-4cc5-8d7e-cc11bcedc98f",
   "metadata": {},
   "outputs": [],
   "source": [
    "soup.find('h2', class_='ddc-anchor-offset').name = 'hogehoge'"
   ]
  },
  {
   "cell_type": "code",
   "execution_count": 356,
   "id": "143c561d-bb24-4544-a971-8afe0288fd52",
   "metadata": {},
   "outputs": [],
   "source": [
    "import itertools"
   ]
  },
  {
   "cell_type": "code",
   "execution_count": 357,
   "id": "7d0764f2-f927-46e9-8044-fc76eddbaba1",
   "metadata": {},
   "outputs": [],
   "source": [
    "nts = soup.find_all('nt')"
   ]
  },
  {
   "cell_type": "code",
   "execution_count": 358,
   "id": "e6143426-24e9-4fd8-9c59-940aeb82744a",
   "metadata": {},
   "outputs": [
    {
     "data": {
      "text/plain": [
       "[<nt>Side effects requiring immediate medical attention</nt>,\n",
       " <nt>Side effects not requiring immediate medical attention</nt>]"
      ]
     },
     "execution_count": 358,
     "metadata": {},
     "output_type": "execute_result"
    }
   ],
   "source": [
    "nts"
   ]
  },
  {
   "cell_type": "code",
   "execution_count": 350,
   "id": "248366e8-874d-4227-ab51-65b1a3b4f897",
   "metadata": {},
   "outputs": [
    {
     "data": {
      "text/plain": [
       "<hoge class=\"ddc-related-link\"><svg aria-hidden=\"true\" class=\"ddc-icon ddc-icon-info-filled\" focusable=\"false\" height=\"18\" viewbox=\"0 0 24 24\" width=\"18\" xmlns=\"http://www.w3.org/2000/svg\"><path d=\"M24 12c0-6.6274-5.3726-12-12-12S0 5.3726 0 12s5.3726 12 12 12 12-5.3726 12-12zm-13 7V9h2v10h-2zm2-14v2h-2V5h2z\"></path></svg> <span><a href=\"/article/drug-side-effects.html\">Managing side effects</a> <span class=\"ddc-text-nowrap\">(general information)</span></span></hoge>"
      ]
     },
     "execution_count": 350,
     "metadata": {},
     "output_type": "execute_result"
    }
   ],
   "source": [
    "soup.find('h2')"
   ]
  },
  {
   "cell_type": "code",
   "execution_count": 359,
   "id": "f2e73b64-9e21-4330-b49f-3ecbf788303d",
   "metadata": {},
   "outputs": [],
   "source": [
    "for el in nts:\n",
    "    els = [i for i in itertools.takewhile(lambda x: x.name not in [el.name,'h2'], el.next_siblings)]\n",
    "    section = soup.new_tag('border')\n",
    "    el.wrap(section)\n",
    "    for tag in els:\n",
    "        section.append(tag)"
   ]
  },
  {
   "cell_type": "code",
   "execution_count": 267,
   "id": "fbee1d54-d4f1-4a02-813c-b18b5954e0b8",
   "metadata": {},
   "outputs": [],
   "source": [
    "#print(soup.prettify())"
   ]
  },
  {
   "cell_type": "code",
   "execution_count": 293,
   "id": "724782fb-0441-4e23-81c7-20346b20f3dd",
   "metadata": {},
   "outputs": [],
   "source": [
    "soup.find('hoge').decompose()"
   ]
  },
  {
   "cell_type": "code",
   "execution_count": 325,
   "id": "dbf1256c-ace4-4fa6-bdf8-2d59fc453a33",
   "metadata": {},
   "outputs": [],
   "source": [
    "#print(soup.prettify())"
   ]
  },
  {
   "cell_type": "code",
   "execution_count": 360,
   "id": "80d0aaf4-1954-4824-93ca-2023d208b1d1",
   "metadata": {},
   "outputs": [
    {
     "data": {
      "text/plain": [
       "[<border><nt>Side effects requiring immediate medical attention</nt><p>Along with its needed effects, evolocumab (the active ingredient contained in <a href=\"/repatha.html\">Repatha</a>) may cause some unwanted effects. Although not all of these side effects may occur, if they do occur they may need medical attention.</p>\n",
       " <p>\n",
       " <b>Check with your doctor immediately</b> if any of the following side effects occur while taking evolocumab:</p>\n",
       " <p>\n",
       " <i>Incidence not known</i>\n",
       " </p>\n",
       " <ul>\n",
       " <li>Difficulty with breathing or swallowing</li>\n",
       " <li>fever</li>\n",
       " <li><a href=\"/cg/urticaria.html\">hives</a>, itching, or rash</li>\n",
       " <li>large, hive-like swelling on the face, eyelids, lips, tongue, throat, hands, legs, feet, or genitals</li>\n",
       " <li><a href=\"/health-guide/nausea.html\">nausea</a></li>\n",
       " <li>reddening of the skin, especially around the ears</li>\n",
       " <li>swelling of the eyes, face, or inside of the nose</li>\n",
       " <li>unusual tiredness or weakness</li>\n",
       " </ul>\n",
       " </border>,\n",
       " <border><nt>Side effects not requiring immediate medical attention</nt><p>Some side effects of evolocumab may occur that usually <b>do not need medical attention</b>. These side effects may go away during treatment as your body adjusts to the medicine. Also, your health care professional may be able to tell you about ways to prevent or reduce some of these side effects.</p>\n",
       " <p>Check with your health care professional if any of the following side effects <b>continue or are bothersome</b> or if you have any questions about them:</p>\n",
       " <p>\n",
       " <i>More common</i>\n",
       " </p>\n",
       " <ul>\n",
       " <li><a href=\"/cg/back-pain.html\">Back pain</a></li>\n",
       " <li>bleeding, blistering, burning, coldness, discoloration of the skin, feeling of pressure, hives, infection, inflammation, itching, lumps, <a href=\"/mcs/numbness\">numbness</a>, pain, rash, redness, scarring, soreness, stinging, swelling, tenderness, tingling, ulceration, or warmth at the injection site</li>\n",
       " <li>blurred vision</li>\n",
       " <li>body aches or pain</li>\n",
       " <li>chills</li>\n",
       " <li>cough</li>\n",
       " <li>dry mouth</li>\n",
       " <li>ear congestion</li>\n",
       " <li>flushed, <a href=\"/cg/itchy-skin.html\">dry skin</a></li>\n",
       " <li>fruit-like breath odor</li>\n",
       " <li>general feeling of discomfort or illness</li>\n",
       " <li><a href=\"/cg/acute-headache.html\">headache</a></li>\n",
       " <li>loss of voice</li>\n",
       " <li>muscle aches</li>\n",
       " <li>sneezing</li>\n",
       " <li><a href=\"/cg/sore-throat.html\">sore throat</a></li>\n",
       " <li>stomach ache</li>\n",
       " <li>stuffy or <a href=\"/cg/allergic-rhinitis.html\">runny nose</a></li>\n",
       " <li>sweating</li>\n",
       " <li>trouble breathing</li>\n",
       " <li><a href=\"/mcs/unexplained-weight-loss\">unexplained weight loss</a></li>\n",
       " <li><a href=\"/cg/acute-nausea-and-vomiting.html\">vomiting</a></li>\n",
       " </ul>\n",
       " <p>\n",
       " <i>Less common</i>\n",
       " </p>\n",
       " <ul>\n",
       " <li>Bladder pain</li>\n",
       " <li>bloody or cloudy urine</li>\n",
       " <li><a href=\"/cg/acute-diarrhea.html\">diarrhea</a></li>\n",
       " <li>difficult, burning, or painful urination</li>\n",
       " <li>difficulty with moving</li>\n",
       " <li><a href=\"/cg/vertigo.html\">dizziness</a></li>\n",
       " <li>frequent urge to urinate</li>\n",
       " <li>loss of appetite</li>\n",
       " <li>lower back or side pain</li>\n",
       " <li>muscle or joint pain</li>\n",
       " <li>muscle stiffness</li>\n",
       " <li>nervousness</li>\n",
       " <li>pain or tenderness around the eyes and cheekbones</li>\n",
       " <li>pounding in the ears</li>\n",
       " <li>slow or <a href=\"/cg/tachycardia.html\">fast heartbeat</a></li>\n",
       " <li>swollen joints</li>\n",
       " </ul>\n",
       " <p>\n",
       " <!-- end subcutaneous solution --><div class=\"ddc-related-link\"><svg aria-hidden=\"true\" class=\"ddc-icon ddc-icon-info-filled\" focusable=\"false\" height=\"18\" viewbox=\"0 0 24 24\" width=\"18\" xmlns=\"http://www.w3.org/2000/svg\"><path d=\"M24 12c0-6.6274-5.3726-12-12-12S0 5.3726 0 12s5.3726 12 12 12 12-5.3726 12-12zm-13 7V9h2v10h-2zm2-14v2h-2V5h2z\"></path></svg> <span><a href=\"/article/drug-side-effects.html\">Managing side effects</a> <span class=\"ddc-text-nowrap\">(general information)</span></span></div>\n",
       " <h2 class=\"ddc-anchor-offset\" id=\"professional\">For Healthcare Professionals</h2><p><i>Applies to evolocumab: subcutaneous solution</i></p><h3>General</h3><p>The more commonly reported adverse reactions have included nasopharyngitis, <a href=\"/cg/upper-respiratory-infection.html\">upper respiratory tract infection</a>, back pain, and injection site reactions.</p><h3>Hypersensitivity</h3><p><b>Common</b> (1% to 10%): Hypersensitivity reactions (including rash, <a href=\"/cg/eczema.html\">eczema</a>, <a href=\"/cg/itchy-skin.html\">erythema</a>, <a href=\"/cg/urticaria.html\">urticaria</a>)</p>\n",
       " <p><b>Postmarketing reports</b>: <a href=\"/cg/angioedema.html\">Angioedema</a><sup>[<a href=\"#refs\" onclick=\"showRefs('1');\">Ref</a>]</sup></p><h3>Cardiovascular</h3><p><b>Common</b> (1% to 10%): Hypertension<sup>[<a href=\"#refs\" onclick=\"showRefs('1');\">Ref</a>]</sup></p><h3>Gastrointestinal</h3><p><b>Common</b> (1% to 10%): Diarrhea, <a href=\"/cg/gastroenteritis.html\">gastroenteritis</a>, nausea (1.8%)<sup>[<a href=\"#refs\" onclick=\"showRefs('1');\">Ref</a>]</sup></p><h3>Genitourinary</h3><p><b>Common</b> (1% to 10%): Urinary tract infection<sup>[<a href=\"#refs\" onclick=\"showRefs('1');\">Ref</a>]</sup></p><h3>Local</h3><p><b>Common</b> (1% to 10%): Injection site reaction (including erythema, pain, bruising)<sup>[<a href=\"#refs\" onclick=\"showRefs('1');\">Ref</a>]</sup></p><h3>Musculoskeletal</h3><p><b>Common</b> (1% to 10%): Back pain, myalgia, musculoskeletal pain, arthralgia (1.8%)<sup>[<a href=\"#refs\" onclick=\"showRefs('1');\">Ref</a>]</sup></p><h3>Nervous system</h3><p><b>Common</b> (1% to 10%): Headache, dizziness</p>\n",
       " <p><b>Uncommon</b> (0.1% to 1%): Neurocognitive events (0.2%)<sup>[<a href=\"#refs\" onclick=\"showRefs('1');\">Ref</a>]</sup></p><h3>Other</h3><p><b>Common</b> (1% to 10%): <a href=\"/cg/influenza.html\">Influenza</a>, fatigue (1.6%)</p>\n",
       " <p><b>Uncommon</b> (0.1% to 1%): Contusion<sup>[<a href=\"#refs\" onclick=\"showRefs('1');\">Ref</a>]</sup></p><h3>Respiratory</h3><p><b>Common</b> (1% to 10%): Influenza, fatigue (1.6%)</p>\n",
       " <p><b>Uncommon</b> (0.1% to 1%): Contusion<sup>[<a href=\"#refs\" onclick=\"showRefs('1');\">Ref</a>]</sup></p><h3>Immunologic</h3><p><b>Rare</b> (less than 0.1%): Development anti-drug antibody</p>\n",
       " <p><b>Postmarketing reports</b>: Influenza-like illness<sup>[<a href=\"#refs\" onclick=\"showRefs('1');\">Ref</a>]</sup></p>\n",
       " <h2 class=\"ddc-anchor-offset\" id=\"faq\">Frequently asked questions</h2>\n",
       " <ul>\n",
       " <li><a data-faq-type=\"link\" href=\"/medical-answers/repatha-high-blood-pressure-3552036/\">Can it cause high blood pressure?</a></li>\n",
       " <li><a data-faq-type=\"link\" href=\"/medical-answers/you-inject-repatha-3550618/\">How do you inject Repatha?</a></li>\n",
       " <li><a data-faq-type=\"link\" href=\"/medical-answers/fast-repatha-evolocumab-work-3552146/\">How fast does it work?</a></li>\n",
       " <li><a data-faq-type=\"link\" href=\"/medical-answers/repatha-cost-3002102/\">How much does Repatha cost?</a></li>\n",
       " <li><a data-faq-type=\"link\" href=\"/medical-answers/repatha-work-3002103/\">How does Repatha work?</a></li>\n",
       " <li><a data-faq-type=\"link\" href=\"/medical-answers/praluent-repatha-difference-3550245/\">Praluent vs Repatha: What's the difference?</a></li>\n",
       " <li><a data-faq-type=\"link\" href=\"/medical-answers/repatha-evolocumab-effective-statin-3552651/\">Is this effective without a statin?</a></li>\n",
       " <li><a data-faq-type=\"link\" href=\"/medical-answers/long-you-repatha-evolocumab-3552028/\">How long should you take it?</a></li>\n",
       " <li><a data-faq-type=\"link\" href=\"/medical-answers/long-repatha-side-effects-3551518/\">How long do the side effects last?</a></li>\n",
       " <li><a data-faq-type=\"link\" href=\"/medical-answers/repatha-weight-gain-loss-3551503/\">Does it cause weight gain or loss?</a></li>\n",
       " <li><a data-faq-type=\"link\" href=\"/medical-answers/you-drink-alcohol-repatha-3551272/\">Can you drink alcohol and take Repatha?</a></li>\n",
       " </ul>\n",
       " <div class=\"more-resources\" id=\"moreResources\">\n",
       " <h2>More about Repatha (evolocumab)</h2>\n",
       " <ul class=\"more-resources-list more-resources-list-general\">\n",
       " <li><a href=\"/pregnancy/evolocumab.html\">During Pregnancy</a> or \n",
       " <a href=\"/breastfeeding/evolocumab.html\">Breastfeeding</a></li>\n",
       " <li><a data-action=\"drug-dosage-disambiguation\" data-brand_id=\"17520\" data-ddc_id=\"3677\" href=\"/dosage/repatha.html\">Dosage Information</a></li>\n",
       " <li><a href=\"/tips/repatha-patient-tips\">Patient Tips</a></li>\n",
       " <li><a href=\"/price-guide/repatha\">Pricing &amp; Coupons</a></li>\n",
       " <li><a href=\"/comments/evolocumab/repatha.html\">408 Reviews</a></li>\n",
       " <li><a href=\"/drug-class/pcsk9-inhibitors.html\">Drug class: PCSK9 inhibitors</a></li>\n",
       " <li><a href=\"/history/repatha.html\">FDA Approval History</a></li>\n",
       " </ul>\n",
       " <h3>Patient resources</h3>\n",
       " <ul class=\"more-resources-list more-resources-list-consumer\">\n",
       " <li><a href=\"/repatha.html\">Drug Information</a></li>\n",
       " <li><a href=\"/mtm/repatha-pushtronex.html\">Repatha Pushtronex</a></li>\n",
       " <li><a href=\"/mtm/repatha-sureclick.html\">Repatha SureClick</a></li>\n",
       " <li><a href=\"/cons/repatha.html\">Repatha <span>(Advanced Reading)</span></a></li>\n",
       " </ul>\n",
       " <h3>Professional resources</h3>\n",
       " <ul class=\"more-resources-list more-resources-list-professional\">\n",
       " <li><a href=\"/pro/repatha.html\">Prescribing Information</a></li>\n",
       " </ul>\n",
       " <h3>Related treatment guides</h3>\n",
       " <ul class=\"more-resources-list more-resources-list-conditions\">\n",
       " <li><a data-brand_name_id=\"17520\" data-condition_id=\"10191\" data-ddc_id=\"3677\" data-send-data=\"/js/async/drug-condition-log.php\" data-type=\"drug-condition\" href=\"/condition/cardiovascular-risk-reduction.html\">Cardiovascular Risk Reduction</a></li>\n",
       " <li><a data-brand_name_id=\"17520\" data-condition_id=\"1323\" data-ddc_id=\"3677\" data-send-data=\"/js/async/drug-condition-log.php\" data-type=\"drug-condition\" href=\"/condition/heterozygous-familial-hypercholesterolemia.html\">High Cholesterol, Familial Heterozygous</a></li>\n",
       " <li><a data-brand_name_id=\"17520\" data-condition_id=\"32\" data-ddc_id=\"3677\" data-send-data=\"/js/async/drug-condition-log.php\" data-type=\"drug-condition\" href=\"/condition/hyperlipidemia.html\">High Cholesterol</a></li>\n",
       " <li><a data-brand_name_id=\"17520\" data-condition_id=\"983\" data-ddc_id=\"3677\" data-send-data=\"/js/async/drug-condition-log.php\" data-type=\"drug-condition\" href=\"/condition/homozygous-familial-hypercholesterolemia.html\">High Cholesterol, Familial Homozygous</a></li>\n",
       " </ul>\n",
       " </div>\n",
       " <!-- Start references --><div class=\"referenceList\"><h4 id=\"refs\">References</h4><p id=\"ref_1\">1. \"Product Information. Repatha (evolocumab).\" Amgen USA, Thousand Oaks, CA. </p></div><!-- End references --><h2>Further information</h2><p class=\"ddc-disclaimer\">Always consult your healthcare provider to ensure the information displayed on this page applies to your personal circumstances.</p>\n",
       " <p>Some side effects may not be reported. You may report them to the <a href=\"https://www.fda.gov/Safety/MedWatch/default.htm\" rel=\"nofollow noopener\" target=\"_blank\">FDA</a>.</p>\n",
       " <p class=\"ddc-disclaimer-link\"><a href=\"/support/disclaimer.html\">Medical Disclaimer</a></p>\n",
       " <script>\n",
       " function showRefs(refs) {\n",
       " \tif (!document.querySelectorAll) {\n",
       " \t\treturn;\n",
       " \t}\n",
       " \n",
       " \tvar referenceIds = refs ? refs.split(',') : [];\n",
       " \tvar referenceTitle = referenceIds.length\n",
       " \t\t ? \"References relevant to chosen section <span class='ddc-text-size-small font-weight-normal'>(<a href='#refs' onclick='showRefs(\\\"\\\"); return false;'>Show all references</a>)</span>\"\n",
       " \t\t : \"References\";\n",
       " \tdocument.getElementById('refs').innerHTML = referenceTitle;\n",
       " \n",
       " \t// Show/hide reference items\n",
       " \tvar referenceList = document.querySelectorAll('.referenceList p');\n",
       " \treferenceList.forEach(function(item) {\n",
       " \t\tvar id = item.id.replace('ref_', '');\n",
       " \t\tif (!referenceIds.length || referenceIds.includes(id)) {\n",
       " \t\t\titem.style.display = 'block';\n",
       " \t\t}\n",
       " \t\telse {\n",
       " \t\t\titem.style.display = 'none';\n",
       " \t\t}\n",
       " \t});\n",
       " }\n",
       " </script>\n",
       " </p></border>]"
      ]
     },
     "execution_count": 360,
     "metadata": {},
     "output_type": "execute_result"
    }
   ],
   "source": [
    "soup.find_all('border')"
   ]
  },
  {
   "cell_type": "code",
   "execution_count": 226,
   "id": "a3ae17b8-1060-45ab-8ace-ac7ab2031dcd",
   "metadata": {},
   "outputs": [],
   "source": [
    "tag = soup.new_tag('hoge')"
   ]
  },
  {
   "cell_type": "code",
   "execution_count": 227,
   "id": "02629c34-aefb-4a29-a2f1-bdc205d9f77d",
   "metadata": {},
   "outputs": [],
   "source": [
    "soup.nt1.insert_before(tag)"
   ]
  },
  {
   "cell_type": "code",
   "execution_count": 229,
   "id": "9900d359-fb54-4df1-a101-74a67e6f9b5a",
   "metadata": {},
   "outputs": [],
   "source": [
    "soup.nt2.insert_before(tag)"
   ]
  },
  {
   "cell_type": "code",
   "execution_count": 230,
   "id": "c4cd3519-3648-4c54-a788-3f3d066e86de",
   "metadata": {},
   "outputs": [
    {
     "data": {
      "text/plain": [
       "[<hoge></hoge>]"
      ]
     },
     "execution_count": 230,
     "metadata": {},
     "output_type": "execute_result"
    }
   ],
   "source": [
    "soup.find_all('hoge')"
   ]
  },
  {
   "cell_type": "code",
   "execution_count": 184,
   "id": "8352aca2-06b3-4f65-9624-c9865303df1e",
   "metadata": {},
   "outputs": [],
   "source": [
    "wrapped_tag = soup.find('hoge').wrap(soup.new_tag('hoge', class_='hogeh))"
   ]
  },
  {
   "cell_type": "code",
   "execution_count": 185,
   "id": "caa64c74-4830-4baa-8d4c-37a57e654879",
   "metadata": {},
   "outputs": [
    {
     "data": {
      "text/plain": [
       "<div class_=\"hogehoge\"><hoge/></div>"
      ]
     },
     "execution_count": 185,
     "metadata": {},
     "output_type": "execute_result"
    }
   ],
   "source": [
    "wrapped_tag"
   ]
  },
  {
   "cell_type": "code",
   "execution_count": 255,
   "id": "caf706db-144a-4597-8a5b-3f182a8d25df",
   "metadata": {},
   "outputs": [],
   "source": [
    "#print(soup.prettify())"
   ]
  },
  {
   "cell_type": "code",
   "execution_count": 9,
   "id": "dfd0137e-c89e-4fe8-8776-d1209f7dbc33",
   "metadata": {},
   "outputs": [],
   "source": [
    "h3 = soup('h3')"
   ]
  },
  {
   "cell_type": "code",
   "execution_count": 33,
   "id": "b9b53592-3979-4ab9-a9ae-67f39c373b8f",
   "metadata": {},
   "outputs": [
    {
     "data": {
      "text/plain": [
       "<h3>Side effects not requiring immediate medical attention</h3>"
      ]
     },
     "execution_count": 33,
     "metadata": {},
     "output_type": "execute_result"
    }
   ],
   "source": [
    "h3[1]"
   ]
  },
  {
   "cell_type": "code",
   "execution_count": 137,
   "id": "9ff27d81-1eb0-4356-a636-4ab7669eaa38",
   "metadata": {},
   "outputs": [],
   "source": [
    "soup = soup.find(class_='contentBox')"
   ]
  },
  {
   "cell_type": "code",
   "execution_count": 129,
   "id": "1ff37de1-00d8-4754-941c-d9ddf644ec70",
   "metadata": {},
   "outputs": [
    {
     "data": {
      "text/plain": [
       "<nt1>Side effects requiring immediate medical attention</nt1>"
      ]
     },
     "execution_count": 129,
     "metadata": {},
     "output_type": "execute_result"
    }
   ],
   "source": [
    "soup.find('nt1')"
   ]
  },
  {
   "cell_type": "code",
   "execution_count": 131,
   "id": "1cdcf22c-ed49-4914-9baa-78e7c2325d80",
   "metadata": {},
   "outputs": [
    {
     "name": "stdout",
     "output_type": "stream",
     "text": [
      "<class 'bs4.element.Tag'>\n",
      "http://example.com/\n"
     ]
    }
   ],
   "source": [
    "tag = soup.new_tag('a', href='http://example.com/')\n",
    "tag.string = 'test'\n",
    "print(type(tag))\n",
    "print(tag.get('href'))"
   ]
  },
  {
   "cell_type": "code",
   "execution_count": 134,
   "id": "0f15f4b7-2744-4735-9b3c-740c7af3e227",
   "metadata": {},
   "outputs": [],
   "source": [
    "soup.div.append(tag)\n",
    "#print(soup)"
   ]
  },
  {
   "cell_type": "code",
   "execution_count": 163,
   "id": "ac0360ac-0a2f-4e09-a3c4-f84a0f843e29",
   "metadata": {},
   "outputs": [],
   "source": [
    "soup = soup.find(class_='contentBox')"
   ]
  },
  {
   "cell_type": "code",
   "execution_count": 167,
   "id": "41cff468-f949-4c34-bd90-b89e324df97e",
   "metadata": {},
   "outputs": [],
   "source": [
    "#print(soup.prettify())"
   ]
  },
  {
   "cell_type": "code",
   "execution_count": 168,
   "id": "dc3ed8cf-1b8c-48a7-9fb7-5b6915b32732",
   "metadata": {},
   "outputs": [
    {
     "data": {
      "text/plain": [
       "[<tr id=\"start\"/>, <tr id=\"end\"/>]"
      ]
     },
     "execution_count": 168,
     "metadata": {},
     "output_type": "execute_result"
    }
   ],
   "source": [
    "soup.find_all('tr')"
   ]
  },
  {
   "cell_type": "code",
   "execution_count": null,
   "id": "73c71c90-67d7-462c-ba5f-44acaabd6ebe",
   "metadata": {},
   "outputs": [],
   "source": []
  },
  {
   "cell_type": "code",
   "execution_count": 119,
   "id": "70fa63c8-7baf-43ba-bd3b-e043f620f812",
   "metadata": {},
   "outputs": [
    {
     "ename": "TypeError",
     "evalue": "'NoneType' object is not callable",
     "output_type": "error",
     "traceback": [
      "\u001b[0;31m---------------------------------------------------------------------------\u001b[0m",
      "\u001b[0;31mTypeError\u001b[0m                                 Traceback (most recent call last)",
      "\u001b[0;32m<ipython-input-119-5ccb24253658>\u001b[0m in \u001b[0;36m<module>\u001b[0;34m\u001b[0m\n\u001b[0;32m----> 1\u001b[0;31m \u001b[0mtag\u001b[0m \u001b[0;34m=\u001b[0m \u001b[0msoup\u001b[0m\u001b[0;34m.\u001b[0m\u001b[0mnew_tag\u001b[0m\u001b[0;34m(\u001b[0m\u001b[0;34m'a'\u001b[0m\u001b[0;34m)\u001b[0m\u001b[0;34m\u001b[0m\u001b[0;34m\u001b[0m\u001b[0m\n\u001b[0m",
      "\u001b[0;31mTypeError\u001b[0m: 'NoneType' object is not callable"
     ]
    }
   ],
   "source": [
    "tag = soup.new_tag('')"
   ]
  },
  {
   "cell_type": "code",
   "execution_count": null,
   "id": "c96d9430-5da3-4377-acc7-3f3fbdea2f52",
   "metadata": {},
   "outputs": [],
   "source": []
  },
  {
   "cell_type": "code",
   "execution_count": 58,
   "id": "b608d8d5-67ed-4abc-8f7d-25645d9d7e84",
   "metadata": {},
   "outputs": [
    {
     "data": {
      "text/plain": [
       "<h3>Side effects requiring immediate medical attention</h3>"
      ]
     },
     "execution_count": 58,
     "metadata": {},
     "output_type": "execute_result"
    }
   ],
   "source": [
    "h3_1"
   ]
  },
  {
   "cell_type": "code",
   "execution_count": 78,
   "id": "97c6d701-16b5-47ea-9a75-6f2b8ce26e6f",
   "metadata": {},
   "outputs": [
    {
     "name": "stdout",
     "output_type": "stream",
     "text": [
      "<p>Along with its needed effects, evolocumab (the active ingredient contained in <a href=\"/repatha.html\">Repatha</a>) may cause some unwanted effects. Although not all of these side effects may occur, if they do occur they may need medical attention.</p>\n",
      "'\\n'\n",
      "<p>\n",
      "<b>Check with your doctor immediately</b> if any of the following side effects occur while taking evolocumab:</p>\n",
      "'\\n'\n",
      "<p>\n",
      "<i>Incidence not known</i>\n",
      "</p>\n",
      "'\\n'\n",
      "<ul>\n",
      "<li>Difficulty with breathing or swallowing</li>\n",
      "<li>fever</li>\n",
      "<li><a href=\"/cg/urticaria.html\">hives</a>, itching, or rash</li>\n",
      "<li>large, hive-like swelling on the face, eyelids, lips, tongue, throat, hands, legs, feet, or genitals</li>\n",
      "<li><a href=\"/health-guide/nausea.html\">nausea</a></li>\n",
      "<li>reddening of the skin, especially around the ears</li>\n",
      "<li>swelling of the eyes, face, or inside of the nose</li>\n",
      "<li>unusual tiredness or weakness</li>\n",
      "</ul>\n",
      "'\\n'\n",
      "<h3>Side effects not requiring immediate medical attention</h3>\n"
     ]
    }
   ],
   "source": [
    "h3_1_lst = [h3_1]\n",
    "for sibling in soup.h3.next_siblings:\n",
    "    print(repr(sibling))\n",
    "    h3_1_lst.append(sibling)\n",
    "    if sibling in h3:\n",
    "        break"
   ]
  },
  {
   "cell_type": "code",
   "execution_count": 79,
   "id": "d5fd5508-7cfd-4b00-a485-d48012a6be0c",
   "metadata": {},
   "outputs": [
    {
     "data": {
      "text/plain": [
       "[<h3>Side effects requiring immediate medical attention</h3>,\n",
       " <p>Along with its needed effects, evolocumab (the active ingredient contained in <a href=\"/repatha.html\">Repatha</a>) may cause some unwanted effects. Although not all of these side effects may occur, if they do occur they may need medical attention.</p>,\n",
       " '\\n',\n",
       " <p>\n",
       " <b>Check with your doctor immediately</b> if any of the following side effects occur while taking evolocumab:</p>,\n",
       " '\\n',\n",
       " <p>\n",
       " <i>Incidence not known</i>\n",
       " </p>,\n",
       " '\\n',\n",
       " <ul>\n",
       " <li>Difficulty with breathing or swallowing</li>\n",
       " <li>fever</li>\n",
       " <li><a href=\"/cg/urticaria.html\">hives</a>, itching, or rash</li>\n",
       " <li>large, hive-like swelling on the face, eyelids, lips, tongue, throat, hands, legs, feet, or genitals</li>\n",
       " <li><a href=\"/health-guide/nausea.html\">nausea</a></li>\n",
       " <li>reddening of the skin, especially around the ears</li>\n",
       " <li>swelling of the eyes, face, or inside of the nose</li>\n",
       " <li>unusual tiredness or weakness</li>\n",
       " </ul>,\n",
       " '\\n',\n",
       " <h3>Side effects not requiring immediate medical attention</h3>]"
      ]
     },
     "execution_count": 79,
     "metadata": {},
     "output_type": "execute_result"
    }
   ],
   "source": [
    "h3_1_lst"
   ]
  },
  {
   "cell_type": "code",
   "execution_count": 80,
   "id": "5c24424e-c706-4d93-902d-f30e60e96c94",
   "metadata": {},
   "outputs": [],
   "source": [
    "soup.find('h3').decompose()"
   ]
  },
  {
   "cell_type": "code",
   "execution_count": 98,
   "id": "7ca4c1f5-d8c6-4442-a35b-b91393de6402",
   "metadata": {},
   "outputs": [],
   "source": [
    "#soup"
   ]
  },
  {
   "cell_type": "code",
   "execution_count": 82,
   "id": "e97ac70d-8e35-4b3c-902f-b658866f4938",
   "metadata": {},
   "outputs": [],
   "source": [
    "h3_2 = soup.h3"
   ]
  },
  {
   "cell_type": "code",
   "execution_count": 83,
   "id": "f0176052-adaa-494c-8b05-e5998e352b44",
   "metadata": {},
   "outputs": [
    {
     "data": {
      "text/plain": [
       "<h3>Side effects not requiring immediate medical attention</h3>"
      ]
     },
     "execution_count": 83,
     "metadata": {},
     "output_type": "execute_result"
    }
   ],
   "source": [
    "h3_2"
   ]
  },
  {
   "cell_type": "code",
   "execution_count": 103,
   "id": "fa5671ea-9a95-4d5d-849a-7903b71f766f",
   "metadata": {},
   "outputs": [
    {
     "name": "stdout",
     "output_type": "stream",
     "text": [
      "<p>Some side effects of evolocumab may occur that usually <b>do not need medical attention</b>. These side effects may go away during treatment as your body adjusts to the medicine. Also, your health care professional may be able to tell you about ways to prevent or reduce some of these side effects.</p>\n"
     ]
    },
    {
     "ename": "NameError",
     "evalue": "name 'h2' is not defined",
     "output_type": "error",
     "traceback": [
      "\u001b[0;31m---------------------------------------------------------------------------\u001b[0m",
      "\u001b[0;31mNameError\u001b[0m                                 Traceback (most recent call last)",
      "\u001b[0;32m<ipython-input-103-1383494acf17>\u001b[0m in \u001b[0;36m<module>\u001b[0;34m\u001b[0m\n\u001b[1;32m      3\u001b[0m     \u001b[0mprint\u001b[0m\u001b[0;34m(\u001b[0m\u001b[0mrepr\u001b[0m\u001b[0;34m(\u001b[0m\u001b[0msibling\u001b[0m\u001b[0;34m)\u001b[0m\u001b[0;34m)\u001b[0m\u001b[0;34m\u001b[0m\u001b[0;34m\u001b[0m\u001b[0m\n\u001b[1;32m      4\u001b[0m     \u001b[0mh3_1_lst\u001b[0m\u001b[0;34m.\u001b[0m\u001b[0mappend\u001b[0m\u001b[0;34m(\u001b[0m\u001b[0msibling\u001b[0m\u001b[0;34m)\u001b[0m\u001b[0;34m\u001b[0m\u001b[0;34m\u001b[0m\u001b[0m\n\u001b[0;32m----> 5\u001b[0;31m     \u001b[0;32mif\u001b[0m \u001b[0msibling\u001b[0m \u001b[0;32min\u001b[0m \u001b[0mh2\u001b[0m\u001b[0;34m:\u001b[0m\u001b[0;34m\u001b[0m\u001b[0;34m\u001b[0m\u001b[0m\n\u001b[0m\u001b[1;32m      6\u001b[0m         \u001b[0;32mbreak\u001b[0m\u001b[0;34m\u001b[0m\u001b[0;34m\u001b[0m\u001b[0m\n",
      "\u001b[0;31mNameError\u001b[0m: name 'h2' is not defined"
     ]
    }
   ],
   "source": [
    "h3_2_lst = [h3_2]\n",
    "for sibling in soup.h3.next_siblings:\n",
    "    print(repr(sibling))\n",
    "    h3_1_lst.append(sibling)\n",
    "    if sibling in h2:\n",
    "        break"
   ]
  },
  {
   "cell_type": "code",
   "execution_count": null,
   "id": "3397810e-80ce-4b13-b1a4-00b04801aee0",
   "metadata": {},
   "outputs": [],
   "source": []
  },
  {
   "cell_type": "code",
   "execution_count": null,
   "id": "311dfb2a-d188-4647-b594-96cb848de9a2",
   "metadata": {},
   "outputs": [],
   "source": []
  },
  {
   "cell_type": "code",
   "execution_count": 39,
   "id": "34f8db3e-e9d5-469e-82fc-c7ade32308db",
   "metadata": {},
   "outputs": [
    {
     "data": {
      "text/plain": [
       "<nt1>Side effects requiring immediate medical attention</nt1>"
      ]
     },
     "execution_count": 39,
     "metadata": {},
     "output_type": "execute_result"
    }
   ],
   "source": [
    "soup = BeautifulSoup('<h3>Side effects requiring immediate medical attention</h3>')\n",
    "tag = soup.h3\n",
    "\n",
    "tag.name = 'nt1'\n",
    "\n",
    "tag"
   ]
  },
  {
   "cell_type": "code",
   "execution_count": 46,
   "id": "b61f5983-486e-458e-92f3-688f3c3a853f",
   "metadata": {},
   "outputs": [
    {
     "data": {
      "text/plain": [
       "<div class=\"contentBox\">\n",
       "<h1>Repatha Side Effects</h1><p class=\"drug-subtitle\"><b>Generic name:</b> <i>evolocumab</i></p>\n",
       "<p class=\"ddc-reviewed-by\"><span><a href=\"/support/editorial_policy.html#editorial-staff\">Medically reviewed</a> by Drugs.com. Last updated on Aug 3, 2021.</span></p>\n",
       "<ul class=\"ddc-anchor-links\">\n",
       "<li><a href=\"#consumer\">Consumer</a></li>\n",
       "<li><a href=\"#professional\">Professional</a></li>\n",
       "<li><a href=\"#faq\">FAQ</a></li>\n",
       "</ul>\n",
       "<p class=\"ddc-notification\"><b>Note:</b> This document contains side effect information about evolocumab. Some of the dosage forms listed on this page <em>may not</em> apply to the brand name Repatha.</p><h2 class=\"ddc-anchor-offset\" id=\"consumer\">For the Consumer</h2><!-- start subcutaneous_solution --><p><i>Applies to <a href=\"/mtm/evolocumab.html\">evolocumab</a>: subcutaneous solution</i></p>\n",
       "<h3>Side effects requiring immediate medical attention</h3><p>Along with its needed effects, evolocumab (the active ingredient contained in <a href=\"/repatha.html\">Repatha</a>) may cause some unwanted effects. Although not all of these side effects may occur, if they do occur they may need medical attention.</p>\n",
       "<p>\n",
       "<b>Check with your doctor immediately</b> if any of the following side effects occur while taking evolocumab:</p>\n",
       "<p>\n",
       "<i>Incidence not known</i>\n",
       "</p>\n",
       "<ul>\n",
       "<li>Difficulty with breathing or swallowing</li>\n",
       "<li>fever</li>\n",
       "<li><a href=\"/cg/urticaria.html\">hives</a>, itching, or rash</li>\n",
       "<li>large, hive-like swelling on the face, eyelids, lips, tongue, throat, hands, legs, feet, or genitals</li>\n",
       "<li><a href=\"/health-guide/nausea.html\">nausea</a></li>\n",
       "<li>reddening of the skin, especially around the ears</li>\n",
       "<li>swelling of the eyes, face, or inside of the nose</li>\n",
       "<li>unusual tiredness or weakness</li>\n",
       "</ul>\n",
       "<h3>Side effects not requiring immediate medical attention</h3><p>Some side effects of evolocumab may occur that usually <b>do not need medical attention</b>. These side effects may go away during treatment as your body adjusts to the medicine. Also, your health care professional may be able to tell you about ways to prevent or reduce some of these side effects.</p>\n",
       "<p>Check with your health care professional if any of the following side effects <b>continue or are bothersome</b> or if you have any questions about them:</p>\n",
       "<p>\n",
       "<i>More common</i>\n",
       "</p>\n",
       "<ul>\n",
       "<li><a href=\"/cg/back-pain.html\">Back pain</a></li>\n",
       "<li>bleeding, blistering, burning, coldness, discoloration of the skin, feeling of pressure, hives, infection, inflammation, itching, lumps, <a href=\"/mcs/numbness\">numbness</a>, pain, rash, redness, scarring, soreness, stinging, swelling, tenderness, tingling, ulceration, or warmth at the injection site</li>\n",
       "<li>blurred vision</li>\n",
       "<li>body aches or pain</li>\n",
       "<li>chills</li>\n",
       "<li>cough</li>\n",
       "<li>dry mouth</li>\n",
       "<li>ear congestion</li>\n",
       "<li>flushed, <a href=\"/cg/itchy-skin.html\">dry skin</a></li>\n",
       "<li>fruit-like breath odor</li>\n",
       "<li>general feeling of discomfort or illness</li>\n",
       "<li><a href=\"/cg/acute-headache.html\">headache</a></li>\n",
       "<li>loss of voice</li>\n",
       "<li>muscle aches</li>\n",
       "<li>sneezing</li>\n",
       "<li><a href=\"/cg/sore-throat.html\">sore throat</a></li>\n",
       "<li>stomach ache</li>\n",
       "<li>stuffy or <a href=\"/cg/allergic-rhinitis.html\">runny nose</a></li>\n",
       "<li>sweating</li>\n",
       "<li>trouble breathing</li>\n",
       "<li><a href=\"/mcs/unexplained-weight-loss\">unexplained weight loss</a></li>\n",
       "<li><a href=\"/cg/acute-nausea-and-vomiting.html\">vomiting</a></li>\n",
       "</ul>\n",
       "<p>\n",
       "<i>Less common</i>\n",
       "</p>\n",
       "<ul>\n",
       "<li>Bladder pain</li>\n",
       "<li>bloody or cloudy urine</li>\n",
       "<li><a href=\"/cg/acute-diarrhea.html\">diarrhea</a></li>\n",
       "<li>difficult, burning, or painful urination</li>\n",
       "<li>difficulty with moving</li>\n",
       "<li><a href=\"/cg/vertigo.html\">dizziness</a></li>\n",
       "<li>frequent urge to urinate</li>\n",
       "<li>loss of appetite</li>\n",
       "<li>lower back or side pain</li>\n",
       "<li>muscle or joint pain</li>\n",
       "<li>muscle stiffness</li>\n",
       "<li>nervousness</li>\n",
       "<li>pain or tenderness around the eyes and cheekbones</li>\n",
       "<li>pounding in the ears</li>\n",
       "<li>slow or <a href=\"/cg/tachycardia.html\">fast heartbeat</a></li>\n",
       "<li>swollen joints</li>\n",
       "</ul>\n",
       "<p>\n",
       "<!-- end subcutaneous solution --><div class=\"ddc-related-link\"><svg aria-hidden=\"true\" class=\"ddc-icon ddc-icon-info-filled\" focusable=\"false\" height=\"18\" viewBox=\"0 0 24 24\" width=\"18\" xmlns=\"http://www.w3.org/2000/svg\"><path d=\"M24 12c0-6.6274-5.3726-12-12-12S0 5.3726 0 12s5.3726 12 12 12 12-5.3726 12-12zm-13 7V9h2v10h-2zm2-14v2h-2V5h2z\"/></svg> <span><a href=\"/article/drug-side-effects.html\">Managing side effects</a> <span class=\"ddc-text-nowrap\">(general information)</span></span></div>\n",
       "<h2 class=\"ddc-anchor-offset\" id=\"professional\">For Healthcare Professionals</h2><p><i>Applies to evolocumab: subcutaneous solution</i></p><h3>General</h3><p>The more commonly reported adverse reactions have included nasopharyngitis, <a href=\"/cg/upper-respiratory-infection.html\">upper respiratory tract infection</a>, back pain, and injection site reactions.</p><h3>Hypersensitivity</h3><p><b>Common</b> (1% to 10%): Hypersensitivity reactions (including rash, <a href=\"/cg/eczema.html\">eczema</a>, <a href=\"/cg/itchy-skin.html\">erythema</a>, <a href=\"/cg/urticaria.html\">urticaria</a>)</p>\n",
       "<p><b>Postmarketing reports</b>: <a href=\"/cg/angioedema.html\">Angioedema</a><sup>[<a href=\"#refs\" onclick=\"showRefs('1');\">Ref</a>]</sup></p><h3>Cardiovascular</h3><p><b>Common</b> (1% to 10%): Hypertension<sup>[<a href=\"#refs\" onclick=\"showRefs('1');\">Ref</a>]</sup></p><h3>Gastrointestinal</h3><p><b>Common</b> (1% to 10%): Diarrhea, <a href=\"/cg/gastroenteritis.html\">gastroenteritis</a>, nausea (1.8%)<sup>[<a href=\"#refs\" onclick=\"showRefs('1');\">Ref</a>]</sup></p><h3>Genitourinary</h3><p><b>Common</b> (1% to 10%): Urinary tract infection<sup>[<a href=\"#refs\" onclick=\"showRefs('1');\">Ref</a>]</sup></p><h3>Local</h3><p><b>Common</b> (1% to 10%): Injection site reaction (including erythema, pain, bruising)<sup>[<a href=\"#refs\" onclick=\"showRefs('1');\">Ref</a>]</sup></p><h3>Musculoskeletal</h3><p><b>Common</b> (1% to 10%): Back pain, myalgia, musculoskeletal pain, arthralgia (1.8%)<sup>[<a href=\"#refs\" onclick=\"showRefs('1');\">Ref</a>]</sup></p><h3>Nervous system</h3><p><b>Common</b> (1% to 10%): Headache, dizziness</p>\n",
       "<p><b>Uncommon</b> (0.1% to 1%): Neurocognitive events (0.2%)<sup>[<a href=\"#refs\" onclick=\"showRefs('1');\">Ref</a>]</sup></p><h3>Other</h3><p><b>Common</b> (1% to 10%): <a href=\"/cg/influenza.html\">Influenza</a>, fatigue (1.6%)</p>\n",
       "<p><b>Uncommon</b> (0.1% to 1%): Contusion<sup>[<a href=\"#refs\" onclick=\"showRefs('1');\">Ref</a>]</sup></p><h3>Respiratory</h3><p><b>Common</b> (1% to 10%): Influenza, fatigue (1.6%)</p>\n",
       "<p><b>Uncommon</b> (0.1% to 1%): Contusion<sup>[<a href=\"#refs\" onclick=\"showRefs('1');\">Ref</a>]</sup></p><h3>Immunologic</h3><p><b>Rare</b> (less than 0.1%): Development anti-drug antibody</p>\n",
       "<p><b>Postmarketing reports</b>: Influenza-like illness<sup>[<a href=\"#refs\" onclick=\"showRefs('1');\">Ref</a>]</sup></p>\n",
       "<h2 class=\"ddc-anchor-offset\" id=\"faq\">Frequently asked questions</h2>\n",
       "<ul>\n",
       "<li><a data-faq-type=\"link\" href=\"/medical-answers/repatha-high-blood-pressure-3552036/\">Can it cause high blood pressure?</a></li>\n",
       "<li><a data-faq-type=\"link\" href=\"/medical-answers/you-inject-repatha-3550618/\">How do you inject Repatha?</a></li>\n",
       "<li><a data-faq-type=\"link\" href=\"/medical-answers/fast-repatha-evolocumab-work-3552146/\">How fast does it work?</a></li>\n",
       "<li><a data-faq-type=\"link\" href=\"/medical-answers/repatha-cost-3002102/\">How much does Repatha cost?</a></li>\n",
       "<li><a data-faq-type=\"link\" href=\"/medical-answers/repatha-work-3002103/\">How does Repatha work?</a></li>\n",
       "<li><a data-faq-type=\"link\" href=\"/medical-answers/praluent-repatha-difference-3550245/\">Praluent vs Repatha: What's the difference?</a></li>\n",
       "<li><a data-faq-type=\"link\" href=\"/medical-answers/repatha-evolocumab-effective-statin-3552651/\">Is this effective without a statin?</a></li>\n",
       "<li><a data-faq-type=\"link\" href=\"/medical-answers/long-you-repatha-evolocumab-3552028/\">How long should you take it?</a></li>\n",
       "<li><a data-faq-type=\"link\" href=\"/medical-answers/long-repatha-side-effects-3551518/\">How long do the side effects last?</a></li>\n",
       "<li><a data-faq-type=\"link\" href=\"/medical-answers/repatha-weight-gain-loss-3551503/\">Does it cause weight gain or loss?</a></li>\n",
       "<li><a data-faq-type=\"link\" href=\"/medical-answers/you-drink-alcohol-repatha-3551272/\">Can you drink alcohol and take Repatha?</a></li>\n",
       "</ul>\n",
       "<div class=\"more-resources\" id=\"moreResources\">\n",
       "<h2>More about Repatha (evolocumab)</h2>\n",
       "<ul class=\"more-resources-list more-resources-list-general\">\n",
       "<li><a href=\"/pregnancy/evolocumab.html\">During Pregnancy</a> or \n",
       "<a href=\"/breastfeeding/evolocumab.html\">Breastfeeding</a></li>\n",
       "<li><a data-action=\"drug-dosage-disambiguation\" data-brand_id=\"17520\" data-ddc_id=\"3677\" href=\"/dosage/repatha.html\">Dosage Information</a></li>\n",
       "<li><a href=\"/tips/repatha-patient-tips\">Patient Tips</a></li>\n",
       "<li><a href=\"/price-guide/repatha\">Pricing  Coupons</a></li>\n",
       "<li><a href=\"/comments/evolocumab/repatha.html\">408 Reviews</a></li>\n",
       "<li><a href=\"/drug-class/pcsk9-inhibitors.html\">Drug class: PCSK9 inhibitors</a></li>\n",
       "<li><a href=\"/history/repatha.html\">FDA Approval History</a></li>\n",
       "</ul>\n",
       "<h3>Patient resources</h3>\n",
       "<ul class=\"more-resources-list more-resources-list-consumer\">\n",
       "<li><a href=\"/repatha.html\">Drug Information</a></li>\n",
       "<li><a href=\"/mtm/repatha-pushtronex.html\">Repatha Pushtronex</a></li>\n",
       "<li><a href=\"/mtm/repatha-sureclick.html\">Repatha SureClick</a></li>\n",
       "<li><a href=\"/cons/repatha.html\">Repatha <span>(Advanced Reading)</span></a></li>\n",
       "</ul>\n",
       "<h3>Professional resources</h3>\n",
       "<ul class=\"more-resources-list more-resources-list-professional\">\n",
       "<li><a href=\"/pro/repatha.html\">Prescribing Information</a></li>\n",
       "</ul>\n",
       "<h3>Related treatment guides</h3>\n",
       "<ul class=\"more-resources-list more-resources-list-conditions\">\n",
       "<li><a data-brand_name_id=\"17520\" data-condition_id=\"10191\" data-ddc_id=\"3677\" data-send-data=\"/js/async/drug-condition-log.php\" data-type=\"drug-condition\" href=\"/condition/cardiovascular-risk-reduction.html\">Cardiovascular Risk Reduction</a></li>\n",
       "<li><a data-brand_name_id=\"17520\" data-condition_id=\"1323\" data-ddc_id=\"3677\" data-send-data=\"/js/async/drug-condition-log.php\" data-type=\"drug-condition\" href=\"/condition/heterozygous-familial-hypercholesterolemia.html\">High Cholesterol, Familial Heterozygous</a></li>\n",
       "<li><a data-brand_name_id=\"17520\" data-condition_id=\"32\" data-ddc_id=\"3677\" data-send-data=\"/js/async/drug-condition-log.php\" data-type=\"drug-condition\" href=\"/condition/hyperlipidemia.html\">High Cholesterol</a></li>\n",
       "<li><a data-brand_name_id=\"17520\" data-condition_id=\"983\" data-ddc_id=\"3677\" data-send-data=\"/js/async/drug-condition-log.php\" data-type=\"drug-condition\" href=\"/condition/homozygous-familial-hypercholesterolemia.html\">High Cholesterol, Familial Homozygous</a></li>\n",
       "</ul>\n",
       "</div>\n",
       "<!-- Start references --><div class=\"referenceList\"><h4 id=\"refs\">References</h4><p id=\"ref_1\">1. \"Product Information. Repatha (evolocumab).\" Amgen USA, Thousand Oaks, CA. </p></div><!-- End references --><h2>Further information</h2><p class=\"ddc-disclaimer\">Always consult your healthcare provider to ensure the information displayed on this page applies to your personal circumstances.</p>\n",
       "<p>Some side effects may not be reported. You may report them to the <a href=\"https://www.fda.gov/Safety/MedWatch/default.htm\" rel=\"nofollow noopener\" target=\"_blank\">FDA</a>.</p>\n",
       "<p class=\"ddc-disclaimer-link\"><a href=\"/support/disclaimer.html\">Medical Disclaimer</a></p>\n",
       "<script>\n",
       "function showRefs(refs) {\n",
       "\tif (!document.querySelectorAll) {\n",
       "\t\treturn;\n",
       "\t}\n",
       "\n",
       "\tvar referenceIds = refs ? refs.split(',') : [];\n",
       "\tvar referenceTitle = referenceIds.length\n",
       "\t\t ? \"References relevant to chosen section <span class=\"ddc-text-size-small font-weight-normal\">(<a href=\"#refs\" onclick='showRefs(\\\"\\\"); return false;'>Show all references</a>)</span>\"\n",
       "\t\t : \"References\";\n",
       "\tdocument.getElementById('refs').innerHTML = referenceTitle;\n",
       "\n",
       "\t// Show/hide reference items\n",
       "\tvar referenceList = document.querySelectorAll('.referenceList p');\n",
       "\treferenceList.forEach(function(item) {\n",
       "\t\tvar id = item.id.replace('ref_', '');\n",
       "\t\tif (!referenceIds.length || referenceIds.includes(id)) {\n",
       "\t\t\titem.style.display = 'block';\n",
       "\t\t}\n",
       "\t\telse {\n",
       "\t\t\titem.style.display = 'none';\n",
       "\t\t}\n",
       "\t});\n",
       "}\n",
       "</script>\n",
       "</p>\n",
       "<!-- google_ad_section_end -->\n",
       "</div>"
      ]
     },
     "execution_count": 46,
     "metadata": {},
     "output_type": "execute_result"
    }
   ],
   "source": []
  },
  {
   "cell_type": "code",
   "execution_count": 361,
   "id": "409e6a19-140b-4796-9720-6c3ca7dfe5a2",
   "metadata": {},
   "outputs": [],
   "source": [
    "driver.quit()"
   ]
  },
  {
   "cell_type": "code",
   "execution_count": null,
   "id": "8601fcad-9f76-4f08-8559-3dbf44689694",
   "metadata": {},
   "outputs": [],
   "source": []
  }
 ],
 "metadata": {
  "kernelspec": {
   "display_name": "Python 3",
   "language": "python",
   "name": "python3"
  },
  "language_info": {
   "codemirror_mode": {
    "name": "ipython",
    "version": 3
   },
   "file_extension": ".py",
   "mimetype": "text/x-python",
   "name": "python",
   "nbconvert_exporter": "python",
   "pygments_lexer": "ipython3",
   "version": "3.8.8"
  }
 },
 "nbformat": 4,
 "nbformat_minor": 5
}

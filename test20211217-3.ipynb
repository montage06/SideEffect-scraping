{
 "cells": [
  {
   "cell_type": "code",
   "execution_count": 1,
   "id": "46304285-a9c6-4462-aed0-ca8127886312",
   "metadata": {},
   "outputs": [],
   "source": [
    "import re\n",
    "import os\n",
    "import pandas as pd\n",
    "import requests\n",
    "from bs4 import BeautifulSoup\n",
    "from selenium import webdriver\n",
    "from selenium.webdriver.common.keys import Keys\n",
    "from selenium.webdriver.common.action_chains import ActionChains\n",
    "from selenium.webdriver.support.ui import WebDriverWait\n",
    "from selenium.webdriver.support import expected_conditions as EC\n",
    "from selenium.webdriver.common.by import By\n",
    "from selenium.webdriver.support.select import Select\n",
    "from time import sleep\n",
    "from webdriver_manager.chrome import ChromeDriverManager\n",
    "driver = webdriver.Chrome('/Users/glicia/python/chromedriver')"
   ]
  },
  {
   "cell_type": "code",
   "execution_count": 2,
   "id": "ed22e326-95d7-46c0-97bf-bf22ecf6c97a",
   "metadata": {},
   "outputs": [],
   "source": [
    "url = 'https://www.drugs.com/sfx-r1.html'\n",
    "driver.get(url)"
   ]
  },
  {
   "cell_type": "code",
   "execution_count": 3,
   "id": "e6b5c491-6c71-4c56-8308-fb76c405afe2",
   "metadata": {},
   "outputs": [],
   "source": [
    "repatha = driver.find_element_by_css_selector('#content > div.contentBox > ul.ddc-list-column-2 > li:nth-child(82) > a').get_attribute('href')"
   ]
  },
  {
   "cell_type": "code",
   "execution_count": 32,
   "id": "eb042c74-7a59-47e6-bd95-b9bf30c8534d",
   "metadata": {},
   "outputs": [],
   "source": [
    "res = requests.get(repatha)\n",
    "soup = BeautifulSoup(res.content, 'lxml-xml')"
   ]
  },
  {
   "cell_type": "code",
   "execution_count": 35,
   "id": "b59b174d-c430-49af-94a2-768243063de8",
   "metadata": {},
   "outputs": [],
   "source": [
    "soup = soup.find(class_='contentBox')"
   ]
  },
  {
   "cell_type": "code",
   "execution_count": 30,
   "id": "abfd410c-e4ba-49cb-9803-bb9a7baf8edd",
   "metadata": {},
   "outputs": [],
   "source": [
    "soup.p.decompose()"
   ]
  },
  {
   "cell_type": "code",
   "execution_count": 39,
   "id": "bdb4edaf-f681-4833-949b-95a060d136b1",
   "metadata": {},
   "outputs": [
    {
     "ename": "AttributeError",
     "evalue": "'NoneType' object has no attribute 'contents'",
     "output_type": "error",
     "traceback": [
      "\u001b[0;31m---------------------------------------------------------------------------\u001b[0m",
      "\u001b[0;31mAttributeError\u001b[0m                            Traceback (most recent call last)",
      "\u001b[0;32m<ipython-input-39-28994b01f734>\u001b[0m in \u001b[0;36m<module>\u001b[0;34m\u001b[0m\n\u001b[0;32m----> 1\u001b[0;31m \u001b[0msoup\u001b[0m \u001b[0;34m=\u001b[0m \u001b[0msoup\u001b[0m\u001b[0;34m.\u001b[0m\u001b[0mGetProductCategoriesForASINResult\u001b[0m\u001b[0;34m.\u001b[0m\u001b[0mcontents\u001b[0m\u001b[0;34m\u001b[0m\u001b[0;34m\u001b[0m\u001b[0m\n\u001b[0m\u001b[1;32m      2\u001b[0m \u001b[0;31m#直下子要素をリスト形式で返却\u001b[0m\u001b[0;34m\u001b[0m\u001b[0;34m\u001b[0m\u001b[0;34m\u001b[0m\u001b[0m\n",
      "\u001b[0;31mAttributeError\u001b[0m: 'NoneType' object has no attribute 'contents'"
     ]
    }
   ],
   "source": [
    "\n",
    "soup = soup.GetProductCategoriesForASINResult.contents\n",
    "#直下子要素をリスト形式で返却\n"
   ]
  },
  {
   "cell_type": "code",
   "execution_count": 40,
   "id": "e4060832-2d0c-4de7-aca2-daca2edbeb21",
   "metadata": {},
   "outputs": [],
   "source": [
    "#soup"
   ]
  },
  {
   "cell_type": "code",
   "execution_count": null,
   "id": "71c95a0b-3cd9-444b-bcb9-4816e729cb61",
   "metadata": {},
   "outputs": [],
   "source": []
  }
 ],
 "metadata": {
  "kernelspec": {
   "display_name": "Python 3",
   "language": "python",
   "name": "python3"
  },
  "language_info": {
   "codemirror_mode": {
    "name": "ipython",
    "version": 3
   },
   "file_extension": ".py",
   "mimetype": "text/x-python",
   "name": "python",
   "nbconvert_exporter": "python",
   "pygments_lexer": "ipython3",
   "version": "3.8.8"
  }
 },
 "nbformat": 4,
 "nbformat_minor": 5
}

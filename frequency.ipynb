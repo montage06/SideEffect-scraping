{
 "cells": [
  {
   "cell_type": "code",
   "execution_count": 51,
   "id": "9872cdc2-9463-4471-a2c8-11202f094606",
   "metadata": {},
   "outputs": [],
   "source": [
    "import pandas as pd\n",
    "from selenium import webdriver\n",
    "from selenium.webdriver.common.keys import Keys\n",
    "from selenium.webdriver.common.action_chains import ActionChains\n",
    "from selenium.webdriver.support.ui import WebDriverWait\n",
    "from selenium.webdriver.support import expected_conditions as EC\n",
    "from selenium.webdriver.common.by import By\n",
    "from selenium.webdriver.support.select import Select\n",
    "from time import sleep\n",
    "from webdriver_manager.chrome import ChromeDriverManager\n",
    "driver = webdriver.Chrome('/Users/glicia/python/chromedriver')\n",
    "\n",
    "\n",
    "##########ここは自動化可能。テストのため、手動にしています\n",
    "url = 'https://www.drugs.com/sfx/acetaminophen-aspirin-caffeine-side-effects.html'\n",
    "##########\n",
    "\n",
    "\n",
    "driver.get(url)"
   ]
  },
  {
   "cell_type": "code",
   "execution_count": 52,
   "id": "cb940364-f5d6-438d-b906-2d069f282213",
   "metadata": {},
   "outputs": [],
   "source": [
    "lists = []"
   ]
  },
  {
   "cell_type": "code",
   "execution_count": 53,
   "id": "721826ba-90ee-49c3-8c88-d60f29c868b2",
   "metadata": {},
   "outputs": [],
   "source": [
    "##########xpathのため、毎回変更が必要\n",
    "#Common, Rare等がある場合\n",
    "#fqcy = driver.find_element_by_xpath('//*[@id=\"content\"]/div[2]/p[8]/i').text\n",
    "##########\n",
    "\n",
    "#Common, Rare等がない場合\n",
    "fqcy = 'N/A'"
   ]
  },
  {
   "cell_type": "code",
   "execution_count": 54,
   "id": "ad955c3b-2ebd-4ea3-87ed-8bc1c408a6ac",
   "metadata": {},
   "outputs": [],
   "source": [
    "drug_name = driver.find_element_by_tag_name('h1').text"
   ]
  },
  {
   "cell_type": "code",
   "execution_count": 55,
   "id": "b5e3147d-5ad3-4fa4-9222-cd9db3cf92db",
   "metadata": {},
   "outputs": [],
   "source": [
    "dn = drug_name.split(' Side Effects')[0]"
   ]
  },
  {
   "cell_type": "code",
   "execution_count": 56,
   "id": "8203acd2-c1ac-4b22-873b-5ec4358c680c",
   "metadata": {},
   "outputs": [],
   "source": [
    "#Generic_nameの取得　ない場合はdrug_nameが入る\n",
    "er1 = driver.find_element_by_class_name('contentBox')\n",
    "\n",
    "try:\n",
    "    if er1.find_element_by_class_name('drug-subtitle'):\n",
    "        gnr = er1.find_element_by_class_name('drug-subtitle')\n",
    "        gn = gnr.find_element_by_tag_name('i').text\n",
    "except:\n",
    "    gn = dn"
   ]
  },
  {
   "cell_type": "code",
   "execution_count": 59,
   "id": "7215d1bf-880b-48ef-8b80-91b3302d1b6c",
   "metadata": {},
   "outputs": [],
   "source": [
    "##########xpathのため、毎回変更が必要\n",
    "se_range = driver.find_element_by_xpath('//*[@id=\"content\"]/div[2]/ul[3]')\n",
    "##########\n",
    "se_lst = []\n",
    "for se in se_range.find_elements_by_tag_name('li'):\n",
    "    side_effect = se.text\n",
    "    se_lst = [dn, gn, fqcy, side_effect]\n",
    "    lists.append(se_lst)"
   ]
  },
  {
   "cell_type": "code",
   "execution_count": 61,
   "id": "a22a1905-650c-4ef1-8576-a2384324aaf4",
   "metadata": {},
   "outputs": [],
   "source": [
    "df = pd.DataFrame(lists, columns=['drug_name', 'Generic_name', 'Frequency', 'Side_Effect'])"
   ]
  },
  {
   "cell_type": "code",
   "execution_count": 62,
   "id": "c22da780-e762-42d2-958f-452e276f2f73",
   "metadata": {},
   "outputs": [],
   "source": [
    "df.to_csv('test_20211214-3.csv', index=False)"
   ]
  },
  {
   "cell_type": "code",
   "execution_count": 63,
   "id": "3ed1515e-8a89-4e57-8ad6-de44613475c3",
   "metadata": {},
   "outputs": [],
   "source": [
    "driver.quit()"
   ]
  },
  {
   "cell_type": "code",
   "execution_count": null,
   "id": "9ca92c65-6d84-465a-8394-1e0ab2d4260e",
   "metadata": {},
   "outputs": [],
   "source": []
  }
 ],
 "metadata": {
  "kernelspec": {
   "display_name": "Python 3",
   "language": "python",
   "name": "python3"
  },
  "language_info": {
   "codemirror_mode": {
    "name": "ipython",
    "version": 3
   },
   "file_extension": ".py",
   "mimetype": "text/x-python",
   "name": "python",
   "nbconvert_exporter": "python",
   "pygments_lexer": "ipython3",
   "version": "3.8.8"
  }
 },
 "nbformat": 4,
 "nbformat_minor": 5
}

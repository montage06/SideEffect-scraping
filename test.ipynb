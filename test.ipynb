{
 "cells": [
  {
   "cell_type": "code",
   "execution_count": 1,
   "id": "3fa17c5b-39da-4f92-b9b1-adfec65a5501",
   "metadata": {},
   "outputs": [
    {
     "name": "stderr",
     "output_type": "stream",
     "text": [
      "[WDM] - \n",
      "\n",
      "[WDM] - ====== WebDriver manager ======\n",
      "[WDM] - Current google-chrome version is 96.0.4664\n",
      "[WDM] - Get LATEST driver version for 96.0.4664\n",
      "[WDM] - Driver [C:\\Users\\Keisuke\\.wdm\\drivers\\chromedriver\\win32\\96.0.4664.45\\chromedriver.exe] found in cache\n"
     ]
    }
   ],
   "source": [
    "import pandas as pd\n",
    "import requests\n",
    "from bs4 import BeautifulSoup\n",
    "from selenium import webdriver\n",
    "from selenium.webdriver.common.keys import Keys\n",
    "from selenium.webdriver.common.action_chains import ActionChains\n",
    "from selenium.webdriver.support.ui import WebDriverWait\n",
    "from selenium.webdriver.support import expected_conditions as EC\n",
    "from selenium.webdriver.common.by import By\n",
    "from selenium.webdriver.support.select import Select\n",
    "from time import sleep\n",
    "from webdriver_manager.chrome import ChromeDriverManager\n",
    "driver = webdriver.Chrome(ChromeDriverManager().install())\n",
    "url = 'https://www.drugs.com/sfx/'\n",
    "driver.get(url)"
   ]
  },
  {
   "cell_type": "code",
   "execution_count": 14,
   "id": "7a6b9537-0d8e-4a35-a2ac-db6f2d9e87cd",
   "metadata": {},
   "outputs": [],
   "source": [
    "#この範囲は変更しない\n",
    "elem_range = driver.find_elements_by_class_name('ddc-clearfix')[1]"
   ]
  },
  {
   "cell_type": "code",
   "execution_count": 15,
   "id": "b2f34643-7b0c-4e27-b974-707381d1f6c0",
   "metadata": {},
   "outputs": [],
   "source": [
    "elem = elem_range.find_elements_by_tag_name('li')[0]"
   ]
  },
  {
   "cell_type": "code",
   "execution_count": 16,
   "id": "e976d7c5-b7b0-4a13-94ea-1b1ebe2b24c5",
   "metadata": {},
   "outputs": [],
   "source": [
    "atag_1 = elem.find_element_by_tag_name('a')"
   ]
  },
  {
   "cell_type": "code",
   "execution_count": 20,
   "id": "33adccd4-8437-4ffb-a75f-fb0958c2413d",
   "metadata": {},
   "outputs": [
    {
     "data": {
      "text/plain": [
       "'A + D Cracked Skin Relief → Acid Gone'"
      ]
     },
     "execution_count": 20,
     "metadata": {},
     "output_type": "execute_result"
    }
   ],
   "source": [
    "atag_1.text"
   ]
  },
  {
   "cell_type": "code",
   "execution_count": 21,
   "id": "4a1d9cdc-14ba-42bd-92f5-1d10cbe3ab6c",
   "metadata": {},
   "outputs": [],
   "source": [
    "new_url = atag_1.get_attribute('href')"
   ]
  },
  {
   "cell_type": "code",
   "execution_count": 22,
   "id": "60cd9713-2f4c-44a3-9b79-da542c703b7e",
   "metadata": {},
   "outputs": [
    {
     "data": {
      "text/plain": [
       "'https://www.drugs.com/sfx-a0.html'"
      ]
     },
     "execution_count": 22,
     "metadata": {},
     "output_type": "execute_result"
    }
   ],
   "source": [
    "new_url"
   ]
  },
  {
   "cell_type": "code",
   "execution_count": 25,
   "id": "b6392aca-9c70-43ff-8824-1c67487ccfe5",
   "metadata": {},
   "outputs": [],
   "source": [
    "driver.execute_script(\"window.open()\")"
   ]
  },
  {
   "cell_type": "code",
   "execution_count": 31,
   "id": "19dee77a-fa18-481f-88fe-f3dbfa395127",
   "metadata": {},
   "outputs": [],
   "source": [
    "driver.switch_to.window(driver.window_handles[1])"
   ]
  },
  {
   "cell_type": "code",
   "execution_count": 27,
   "id": "e6bf3e97-2e33-46ed-8a47-7f32c2e260c8",
   "metadata": {},
   "outputs": [],
   "source": [
    "driver.get(new_url)"
   ]
  },
  {
   "cell_type": "code",
   "execution_count": 37,
   "id": "ac721e1e-bde5-47e3-9363-6741147429f4",
   "metadata": {},
   "outputs": [],
   "source": [
    "rangeee = driver.find_element_by_class_name('ddc-list-column-2')"
   ]
  },
  {
   "cell_type": "code",
   "execution_count": 42,
   "id": "88172d2d-25c5-440d-ad0e-8e0c28b52a34",
   "metadata": {},
   "outputs": [],
   "source": [
    "elemm = rangeee.find_elements_by_tag_name('li')[0]"
   ]
  },
  {
   "cell_type": "code",
   "execution_count": 43,
   "id": "d7258073-bdbd-4559-96cd-1963795ebee0",
   "metadata": {},
   "outputs": [
    {
     "data": {
      "text/plain": [
       "<selenium.webdriver.remote.webelement.WebElement (session=\"d85f6ea6370121bafeed732923112900\", element=\"98a48a88-73f4-49ce-a553-6cbdea5d6c98\")>"
      ]
     },
     "execution_count": 43,
     "metadata": {},
     "output_type": "execute_result"
    }
   ],
   "source": [
    "elemm"
   ]
  },
  {
   "cell_type": "code",
   "execution_count": 44,
   "id": "6b4bd785-d12c-48c5-84fb-c35eb673d01c",
   "metadata": {},
   "outputs": [],
   "source": [
    "atag_2 = elemm.find_element_by_tag_name('a')"
   ]
  },
  {
   "cell_type": "code",
   "execution_count": 45,
   "id": "fac43264-f44a-4a31-ad0b-58d4c3979257",
   "metadata": {},
   "outputs": [],
   "source": [
    "ltst_url = atag_2.get_attribute('href')"
   ]
  },
  {
   "cell_type": "code",
   "execution_count": 28,
   "id": "279c859e-215d-4ef7-aa58-79c1c8f2bfc6",
   "metadata": {},
   "outputs": [],
   "source": [
    "driver.execute_script(\"window.open()\")"
   ]
  },
  {
   "cell_type": "code",
   "execution_count": 46,
   "id": "dcadfbfb-072e-4a26-a002-4a0e651f2962",
   "metadata": {},
   "outputs": [],
   "source": [
    "driver.switch_to.window(driver.window_handles[2])"
   ]
  },
  {
   "cell_type": "code",
   "execution_count": 47,
   "id": "0947ff3d-0f4d-4d75-99fb-94fb8daad8c3",
   "metadata": {},
   "outputs": [],
   "source": [
    "driver.get(ltst_url)"
   ]
  },
  {
   "cell_type": "code",
   "execution_count": 51,
   "id": "4c6a11c9-b9a8-4523-a361-6d45723d689d",
   "metadata": {},
   "outputs": [],
   "source": [
    "liii = []"
   ]
  },
  {
   "cell_type": "code",
   "execution_count": 49,
   "id": "25edbd13-6f7a-4531-bf2d-4c08b0588934",
   "metadata": {},
   "outputs": [],
   "source": [
    "range1 = driver.find_element_by_class_name('contentBox')"
   ]
  },
  {
   "cell_type": "code",
   "execution_count": 52,
   "id": "11cd0def-fac3-4a47-9d3c-ba309f3adb1d",
   "metadata": {},
   "outputs": [],
   "source": [
    "for li in range1.find_elements_by_tag_name('li'):\n",
    "    lii = li.text\n",
    "    liii.append(lii)"
   ]
  },
  {
   "cell_type": "code",
   "execution_count": 53,
   "id": "e1fdfda5-9c0f-40d1-aafc-2b8bf455b293",
   "metadata": {},
   "outputs": [
    {
     "data": {
      "text/plain": [
       "['Signs of an allergic reaction, like rash; hives; itching; red, swollen, blistered, or peeling skin with or without fever; wheezing; tightness in the chest or throat; trouble breathing, swallowing, or talking; unusual hoarseness; or swelling of the mouth, face, lips, tongue, or throat.',\n",
       " 'Very bad skin irritation.',\n",
       " 'Swelling.',\n",
       " 'Redness.',\n",
       " 'Signs or symptoms of infection.',\n",
       " 'All drugs may cause side effects. However, many people have no side effects or only have minor side effects. Call your doctor or get medical help if you have any side effects that bother you or do not go away.',\n",
       " 'Drug Interactions',\n",
       " '2 Reviews',\n",
       " 'Drug class: topical anesthetics',\n",
       " 'Patient Information',\n",
       " 'Bacterial Skin Infection']"
      ]
     },
     "execution_count": 53,
     "metadata": {},
     "output_type": "execute_result"
    }
   ],
   "source": [
    "liii"
   ]
  },
  {
   "cell_type": "markdown",
   "id": "12986f4e-de76-478a-a958-9cb0b79e048b",
   "metadata": {},
   "source": [
    "beautifulsoupでは取得場所の指定ができないため、最初の方法である、全体を取って、いらない部分を重ねてとり、重複を削除する方法が現実的"
   ]
  },
  {
   "cell_type": "code",
   "execution_count": 24,
   "id": "5c210b1f-0eb3-4f7f-aa83-66fdf83991d8",
   "metadata": {},
   "outputs": [],
   "source": [
    "driver.execute_script(\"window.open('new_url');\")"
   ]
  },
  {
   "cell_type": "code",
   "execution_count": 4,
   "id": "7007120e-2b0d-44bd-94cf-61e7f9b5f92d",
   "metadata": {},
   "outputs": [
    {
     "ename": "NameError",
     "evalue": "name 'dn' is not defined",
     "output_type": "error",
     "traceback": [
      "\u001b[1;31m---------------------------------------------------------------------------\u001b[0m",
      "\u001b[1;31mNameError\u001b[0m                                 Traceback (most recent call last)",
      "\u001b[1;32m<ipython-input-4-9e64633c29bb>\u001b[0m in \u001b[0;36m<module>\u001b[1;34m\u001b[0m\n\u001b[1;32m----> 1\u001b[1;33m \u001b[0matag\u001b[0m \u001b[1;33m=\u001b[0m \u001b[0mdn\u001b[0m\u001b[1;33m.\u001b[0m\u001b[0mfind_element_by_tag_name\u001b[0m\u001b[1;33m(\u001b[0m\u001b[1;34m'a'\u001b[0m\u001b[1;33m)\u001b[0m\u001b[1;33m\u001b[0m\u001b[1;33m\u001b[0m\u001b[0m\n\u001b[0m",
      "\u001b[1;31mNameError\u001b[0m: name 'dn' is not defined"
     ]
    }
   ],
   "source": [
    "atag = dn.find_element_by_tag_name('a')"
   ]
  },
  {
   "cell_type": "code",
   "execution_count": 3,
   "id": "d9f54155-f4c5-4957-8f89-c8528a8d2c87",
   "metadata": {},
   "outputs": [
    {
     "ename": "NameError",
     "evalue": "name 'atag' is not defined",
     "output_type": "error",
     "traceback": [
      "\u001b[1;31m---------------------------------------------------------------------------\u001b[0m",
      "\u001b[1;31mNameError\u001b[0m                                 Traceback (most recent call last)",
      "\u001b[1;32m<ipython-input-3-5fd218f4fcc0>\u001b[0m in \u001b[0;36m<module>\u001b[1;34m\u001b[0m\n\u001b[1;32m----> 1\u001b[1;33m \u001b[0mnew_url\u001b[0m \u001b[1;33m=\u001b[0m \u001b[0matag\u001b[0m\u001b[1;33m.\u001b[0m\u001b[0mget_attribute\u001b[0m\u001b[1;33m(\u001b[0m\u001b[1;34m'href'\u001b[0m\u001b[1;33m)\u001b[0m\u001b[1;33m\u001b[0m\u001b[1;33m\u001b[0m\u001b[0m\n\u001b[0m",
      "\u001b[1;31mNameError\u001b[0m: name 'atag' is not defined"
     ]
    }
   ],
   "source": [
    "new_url = atag.get_attribute('href')"
   ]
  },
  {
   "cell_type": "code",
   "execution_count": null,
   "id": "caa87b19-13d6-4077-8852-d2d73d04be92",
   "metadata": {},
   "outputs": [],
   "source": [
    "driver.execute_script(\"window.open('https://〇〇');\")"
   ]
  }
 ],
 "metadata": {
  "kernelspec": {
   "display_name": "Python 3",
   "language": "python",
   "name": "python3"
  },
  "language_info": {
   "codemirror_mode": {
    "name": "ipython",
    "version": 3
   },
   "file_extension": ".py",
   "mimetype": "text/x-python",
   "name": "python",
   "nbconvert_exporter": "python",
   "pygments_lexer": "ipython3",
   "version": "3.8.10"
  }
 },
 "nbformat": 4,
 "nbformat_minor": 5
}

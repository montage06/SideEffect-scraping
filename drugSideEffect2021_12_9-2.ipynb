{
 "cells": [
  {
   "cell_type": "code",
   "execution_count": 2,
   "id": "e7f94efb-2888-4492-a366-58fcfb77ce87",
   "metadata": {},
   "outputs": [],
   "source": [
    "import pandas as pd\n",
    "import requests\n",
    "from bs4 import BeautifulSoup\n",
    "from selenium import webdriver\n",
    "from selenium.webdriver.common.keys import Keys\n",
    "from selenium.webdriver.common.action_chains import ActionChains\n",
    "from selenium.webdriver.support.ui import WebDriverWait\n",
    "from selenium.webdriver.support import expected_conditions as EC\n",
    "from selenium.webdriver.common.by import By\n",
    "from selenium.webdriver.support.select import Select\n",
    "from time import sleep\n",
    "from webdriver_manager.chrome import ChromeDriverManager\n",
    "driver = webdriver.Chrome('/Users/glicia/python/chromedriver')\n",
    "url = 'https://www.drugs.com/sfx/'\n",
    "driver.get(url)"
   ]
  },
  {
   "cell_type": "code",
   "execution_count": 3,
   "id": "a346ee1b-b16a-4807-8634-79bdc663bcb7",
   "metadata": {},
   "outputs": [],
   "source": [
    "#この範囲は変更しない\n",
    "elem_range = driver.find_elements_by_class_name('ddc-clearfix')[1]"
   ]
  },
  {
   "cell_type": "code",
   "execution_count": 4,
   "id": "6e24626e-a7a0-4c94-b40f-2068c6724c1f",
   "metadata": {},
   "outputs": [],
   "source": [
    "#画面内にelementを配置し、クリックして別タブで開く\n",
    "#練習用として、１つだけ動かす\n",
    "elem = elem_range.find_elements_by_tag_name('li')[0]\n",
    "driver.execute_script(\"arguments[0].scrollIntoView();\", elem)\n",
    "\n"
   ]
  },
  {
   "cell_type": "code",
   "execution_count": 6,
   "id": "508584d8-8e05-47be-b302-40b2a81d9ba3",
   "metadata": {},
   "outputs": [],
   "source": [
    "actions = ActionChains(driver)\n",
    "actions.key_down(Keys.COMMAND)\n",
    "actions.click(elem)\n",
    "actions.perform()\n",
    "driver.switch_to.window(driver.window_handles[1])"
   ]
  },
  {
   "cell_type": "code",
   "execution_count": 7,
   "id": "4aa430a6-b741-4ad6-a629-cc1aa23a97e0",
   "metadata": {},
   "outputs": [],
   "source": [
    "dn_range = driver.find_element_by_class_name('ddc-list-column-2')"
   ]
  },
  {
   "cell_type": "code",
   "execution_count": 261,
   "id": "271b8579-aa82-4e72-880d-0714e7db8185",
   "metadata": {},
   "outputs": [
    {
     "ename": "InvalidSessionIdException",
     "evalue": "Message: invalid session id\n",
     "output_type": "error",
     "traceback": [
      "\u001b[0;31m---------------------------------------------------------------------------\u001b[0m",
      "\u001b[0;31mInvalidSessionIdException\u001b[0m                 Traceback (most recent call last)",
      "\u001b[0;32m<ipython-input-261-6fcb22e3b9a8>\u001b[0m in \u001b[0;36m<module>\u001b[0;34m\u001b[0m\n\u001b[0;32m----> 1\u001b[0;31m \u001b[0mdn\u001b[0m \u001b[0;34m=\u001b[0m \u001b[0mdn_range\u001b[0m\u001b[0;34m.\u001b[0m\u001b[0mfind_elements_by_tag_name\u001b[0m\u001b[0;34m(\u001b[0m\u001b[0;34m'li'\u001b[0m\u001b[0;34m)\u001b[0m\u001b[0;34m[\u001b[0m\u001b[0;36m5\u001b[0m\u001b[0;34m]\u001b[0m\u001b[0;34m\u001b[0m\u001b[0;34m\u001b[0m\u001b[0m\n\u001b[0m",
      "\u001b[0;32m~/opt/anaconda3/lib/python3.8/site-packages/selenium/webdriver/remote/webelement.py\u001b[0m in \u001b[0;36mfind_elements_by_tag_name\u001b[0;34m(self, name)\u001b[0m\n\u001b[1;32m    318\u001b[0m             \u001b[0melements\u001b[0m \u001b[0;34m=\u001b[0m \u001b[0melement\u001b[0m\u001b[0;34m.\u001b[0m\u001b[0mfind_elements_by_tag_name\u001b[0m\u001b[0;34m(\u001b[0m\u001b[0;34m'h1'\u001b[0m\u001b[0;34m)\u001b[0m\u001b[0;34m\u001b[0m\u001b[0;34m\u001b[0m\u001b[0m\n\u001b[1;32m    319\u001b[0m         \"\"\"\n\u001b[0;32m--> 320\u001b[0;31m         \u001b[0;32mreturn\u001b[0m \u001b[0mself\u001b[0m\u001b[0;34m.\u001b[0m\u001b[0mfind_elements\u001b[0m\u001b[0;34m(\u001b[0m\u001b[0mby\u001b[0m\u001b[0;34m=\u001b[0m\u001b[0mBy\u001b[0m\u001b[0;34m.\u001b[0m\u001b[0mTAG_NAME\u001b[0m\u001b[0;34m,\u001b[0m \u001b[0mvalue\u001b[0m\u001b[0;34m=\u001b[0m\u001b[0mname\u001b[0m\u001b[0;34m)\u001b[0m\u001b[0;34m\u001b[0m\u001b[0;34m\u001b[0m\u001b[0m\n\u001b[0m\u001b[1;32m    321\u001b[0m \u001b[0;34m\u001b[0m\u001b[0m\n\u001b[1;32m    322\u001b[0m     \u001b[0;32mdef\u001b[0m \u001b[0mfind_element_by_xpath\u001b[0m\u001b[0;34m(\u001b[0m\u001b[0mself\u001b[0m\u001b[0;34m,\u001b[0m \u001b[0mxpath\u001b[0m\u001b[0;34m)\u001b[0m\u001b[0;34m:\u001b[0m\u001b[0;34m\u001b[0m\u001b[0;34m\u001b[0m\u001b[0m\n",
      "\u001b[0;32m~/opt/anaconda3/lib/python3.8/site-packages/selenium/webdriver/remote/webelement.py\u001b[0m in \u001b[0;36mfind_elements\u001b[0;34m(self, by, value)\u001b[0m\n\u001b[1;32m    682\u001b[0m                 \u001b[0mvalue\u001b[0m \u001b[0;34m=\u001b[0m \u001b[0;34m'[name=\"%s\"]'\u001b[0m \u001b[0;34m%\u001b[0m \u001b[0mvalue\u001b[0m\u001b[0;34m\u001b[0m\u001b[0;34m\u001b[0m\u001b[0m\n\u001b[1;32m    683\u001b[0m \u001b[0;34m\u001b[0m\u001b[0m\n\u001b[0;32m--> 684\u001b[0;31m         return self._execute(Command.FIND_CHILD_ELEMENTS,\n\u001b[0m\u001b[1;32m    685\u001b[0m                              {\"using\": by, \"value\": value})['value']\n\u001b[1;32m    686\u001b[0m \u001b[0;34m\u001b[0m\u001b[0m\n",
      "\u001b[0;32m~/opt/anaconda3/lib/python3.8/site-packages/selenium/webdriver/remote/webelement.py\u001b[0m in \u001b[0;36m_execute\u001b[0;34m(self, command, params)\u001b[0m\n\u001b[1;32m    631\u001b[0m             \u001b[0mparams\u001b[0m \u001b[0;34m=\u001b[0m \u001b[0;34m{\u001b[0m\u001b[0;34m}\u001b[0m\u001b[0;34m\u001b[0m\u001b[0;34m\u001b[0m\u001b[0m\n\u001b[1;32m    632\u001b[0m         \u001b[0mparams\u001b[0m\u001b[0;34m[\u001b[0m\u001b[0;34m'id'\u001b[0m\u001b[0;34m]\u001b[0m \u001b[0;34m=\u001b[0m \u001b[0mself\u001b[0m\u001b[0;34m.\u001b[0m\u001b[0m_id\u001b[0m\u001b[0;34m\u001b[0m\u001b[0;34m\u001b[0m\u001b[0m\n\u001b[0;32m--> 633\u001b[0;31m         \u001b[0;32mreturn\u001b[0m \u001b[0mself\u001b[0m\u001b[0;34m.\u001b[0m\u001b[0m_parent\u001b[0m\u001b[0;34m.\u001b[0m\u001b[0mexecute\u001b[0m\u001b[0;34m(\u001b[0m\u001b[0mcommand\u001b[0m\u001b[0;34m,\u001b[0m \u001b[0mparams\u001b[0m\u001b[0;34m)\u001b[0m\u001b[0;34m\u001b[0m\u001b[0;34m\u001b[0m\u001b[0m\n\u001b[0m\u001b[1;32m    634\u001b[0m \u001b[0;34m\u001b[0m\u001b[0m\n\u001b[1;32m    635\u001b[0m     \u001b[0;32mdef\u001b[0m \u001b[0mfind_element\u001b[0m\u001b[0;34m(\u001b[0m\u001b[0mself\u001b[0m\u001b[0;34m,\u001b[0m \u001b[0mby\u001b[0m\u001b[0;34m=\u001b[0m\u001b[0mBy\u001b[0m\u001b[0;34m.\u001b[0m\u001b[0mID\u001b[0m\u001b[0;34m,\u001b[0m \u001b[0mvalue\u001b[0m\u001b[0;34m=\u001b[0m\u001b[0;32mNone\u001b[0m\u001b[0;34m)\u001b[0m\u001b[0;34m:\u001b[0m\u001b[0;34m\u001b[0m\u001b[0;34m\u001b[0m\u001b[0m\n",
      "\u001b[0;32m~/opt/anaconda3/lib/python3.8/site-packages/selenium/webdriver/remote/webdriver.py\u001b[0m in \u001b[0;36mexecute\u001b[0;34m(self, driver_command, params)\u001b[0m\n\u001b[1;32m    319\u001b[0m         \u001b[0mresponse\u001b[0m \u001b[0;34m=\u001b[0m \u001b[0mself\u001b[0m\u001b[0;34m.\u001b[0m\u001b[0mcommand_executor\u001b[0m\u001b[0;34m.\u001b[0m\u001b[0mexecute\u001b[0m\u001b[0;34m(\u001b[0m\u001b[0mdriver_command\u001b[0m\u001b[0;34m,\u001b[0m \u001b[0mparams\u001b[0m\u001b[0;34m)\u001b[0m\u001b[0;34m\u001b[0m\u001b[0;34m\u001b[0m\u001b[0m\n\u001b[1;32m    320\u001b[0m         \u001b[0;32mif\u001b[0m \u001b[0mresponse\u001b[0m\u001b[0;34m:\u001b[0m\u001b[0;34m\u001b[0m\u001b[0;34m\u001b[0m\u001b[0m\n\u001b[0;32m--> 321\u001b[0;31m             \u001b[0mself\u001b[0m\u001b[0;34m.\u001b[0m\u001b[0merror_handler\u001b[0m\u001b[0;34m.\u001b[0m\u001b[0mcheck_response\u001b[0m\u001b[0;34m(\u001b[0m\u001b[0mresponse\u001b[0m\u001b[0;34m)\u001b[0m\u001b[0;34m\u001b[0m\u001b[0;34m\u001b[0m\u001b[0m\n\u001b[0m\u001b[1;32m    322\u001b[0m             response['value'] = self._unwrap_value(\n\u001b[1;32m    323\u001b[0m                 response.get('value', None))\n",
      "\u001b[0;32m~/opt/anaconda3/lib/python3.8/site-packages/selenium/webdriver/remote/errorhandler.py\u001b[0m in \u001b[0;36mcheck_response\u001b[0;34m(self, response)\u001b[0m\n\u001b[1;32m    240\u001b[0m                 \u001b[0malert_text\u001b[0m \u001b[0;34m=\u001b[0m \u001b[0mvalue\u001b[0m\u001b[0;34m[\u001b[0m\u001b[0;34m'alert'\u001b[0m\u001b[0;34m]\u001b[0m\u001b[0;34m.\u001b[0m\u001b[0mget\u001b[0m\u001b[0;34m(\u001b[0m\u001b[0;34m'text'\u001b[0m\u001b[0;34m)\u001b[0m\u001b[0;34m\u001b[0m\u001b[0;34m\u001b[0m\u001b[0m\n\u001b[1;32m    241\u001b[0m             \u001b[0;32mraise\u001b[0m \u001b[0mexception_class\u001b[0m\u001b[0;34m(\u001b[0m\u001b[0mmessage\u001b[0m\u001b[0;34m,\u001b[0m \u001b[0mscreen\u001b[0m\u001b[0;34m,\u001b[0m \u001b[0mstacktrace\u001b[0m\u001b[0;34m,\u001b[0m \u001b[0malert_text\u001b[0m\u001b[0;34m)\u001b[0m\u001b[0;34m\u001b[0m\u001b[0;34m\u001b[0m\u001b[0m\n\u001b[0;32m--> 242\u001b[0;31m         \u001b[0;32mraise\u001b[0m \u001b[0mexception_class\u001b[0m\u001b[0;34m(\u001b[0m\u001b[0mmessage\u001b[0m\u001b[0;34m,\u001b[0m \u001b[0mscreen\u001b[0m\u001b[0;34m,\u001b[0m \u001b[0mstacktrace\u001b[0m\u001b[0;34m)\u001b[0m\u001b[0;34m\u001b[0m\u001b[0;34m\u001b[0m\u001b[0m\n\u001b[0m\u001b[1;32m    243\u001b[0m \u001b[0;34m\u001b[0m\u001b[0m\n\u001b[1;32m    244\u001b[0m     \u001b[0;32mdef\u001b[0m \u001b[0m_value_or_default\u001b[0m\u001b[0;34m(\u001b[0m\u001b[0mself\u001b[0m\u001b[0;34m,\u001b[0m \u001b[0mobj\u001b[0m\u001b[0;34m,\u001b[0m \u001b[0mkey\u001b[0m\u001b[0;34m,\u001b[0m \u001b[0mdefault\u001b[0m\u001b[0;34m)\u001b[0m\u001b[0;34m:\u001b[0m\u001b[0;34m\u001b[0m\u001b[0;34m\u001b[0m\u001b[0m\n",
      "\u001b[0;31mInvalidSessionIdException\u001b[0m: Message: invalid session id\n"
     ]
    }
   ],
   "source": [
    "dn = dn_range.find_elements_by_tag_name('li')[5]"
   ]
  },
  {
   "cell_type": "code",
   "execution_count": null,
   "id": "71fed092-717e-4f4d-aba8-98858b13054e",
   "metadata": {},
   "outputs": [],
   "source": [
    "dn.text"
   ]
  },
  {
   "cell_type": "code",
   "execution_count": 249,
   "id": "5ae3c245-0dc6-4f42-ae65-6cef984c7726",
   "metadata": {},
   "outputs": [],
   "source": [
    "atag = dn.find_element_by_tag_name('a')"
   ]
  },
  {
   "cell_type": "code",
   "execution_count": 250,
   "id": "d958e0d2-4e14-4642-b6d9-a0ed67e5316b",
   "metadata": {},
   "outputs": [
    {
     "data": {
      "text/plain": [
       "<selenium.webdriver.remote.webelement.WebElement (session=\"9cc5ea3e53097f03abf6d592dccac324\", element=\"e1ae0b98-1628-4a95-a006-a56587941276\")>"
      ]
     },
     "execution_count": 250,
     "metadata": {},
     "output_type": "execute_result"
    }
   ],
   "source": [
    "atag"
   ]
  },
  {
   "cell_type": "code",
   "execution_count": 251,
   "id": "6821af5e-323f-4d21-b5d2-e22ff6d448f7",
   "metadata": {},
   "outputs": [],
   "source": [
    "new_url = atag.get_attribute('href')"
   ]
  },
  {
   "cell_type": "code",
   "execution_count": 252,
   "id": "f43ee6cb-aa76-4c17-b0f7-975426a24458",
   "metadata": {},
   "outputs": [
    {
     "data": {
      "text/plain": [
       "'https://www.drugs.com/sfx/a-hydrocort-side-effects.html'"
      ]
     },
     "execution_count": 252,
     "metadata": {},
     "output_type": "execute_result"
    }
   ],
   "source": [
    "new_url"
   ]
  },
  {
   "cell_type": "code",
   "execution_count": 253,
   "id": "d1e06b8d-1d36-4d7b-854c-69ca1a88adb9",
   "metadata": {},
   "outputs": [],
   "source": [
    "res = requests.get(new_url)"
   ]
  },
  {
   "cell_type": "code",
   "execution_count": 254,
   "id": "6abba567-4be3-42f2-9e8a-9164d17f6048",
   "metadata": {},
   "outputs": [],
   "source": [
    "soup = BeautifulSoup(res.text, 'html.parser')"
   ]
  },
  {
   "cell_type": "code",
   "execution_count": 106,
   "id": "42b7d111-6fd3-414e-864c-ae8d8fe5ff3a",
   "metadata": {},
   "outputs": [],
   "source": [
    "#soup"
   ]
  },
  {
   "cell_type": "code",
   "execution_count": 161,
   "id": "0ecdf75d-718e-42a4-b2b5-8e7712556e15",
   "metadata": {},
   "outputs": [],
   "source": [
    "#print(soup.prettify())"
   ]
  },
  {
   "cell_type": "code",
   "execution_count": 255,
   "id": "96a8a309-66b1-4493-bff4-aacff420f1d8",
   "metadata": {},
   "outputs": [
    {
     "name": "stdout",
     "output_type": "stream",
     "text": [
      "Generic name: hydrocortisone\n"
     ]
    }
   ],
   "source": [
    "gn = soup.find('p', attrs={ 'class': 'drug-subtitle'})\n",
    "print(gn.text)"
   ]
  },
  {
   "cell_type": "code",
   "execution_count": 256,
   "id": "9e885618-190f-47bb-8fbb-71418e3b0cb1",
   "metadata": {},
   "outputs": [],
   "source": [
    "result = []"
   ]
  },
  {
   "cell_type": "code",
   "execution_count": 257,
   "id": "0b6de741-afdb-43dd-ace7-97c13c30c5a6",
   "metadata": {},
   "outputs": [],
   "source": [
    "for txt in soup.find_all('li'):\n",
    "    texts = txt.text\n",
    "    result.append(texts)"
   ]
  },
  {
   "cell_type": "code",
   "execution_count": 258,
   "id": "123adace-9fd6-4db9-b209-d7368c4cc2da",
   "metadata": {},
   "outputs": [
    {
     "data": {
      "text/plain": [
       "['a',\n",
       " 'b',\n",
       " 'c',\n",
       " 'd',\n",
       " 'e',\n",
       " 'f',\n",
       " 'g',\n",
       " 'h',\n",
       " 'i',\n",
       " 'j',\n",
       " 'k',\n",
       " 'l',\n",
       " 'm',\n",
       " 'n',\n",
       " 'o',\n",
       " 'p',\n",
       " 'q',\n",
       " 'r',\n",
       " 's',\n",
       " 't',\n",
       " 'u',\n",
       " 'v',\n",
       " 'w',\n",
       " 'x',\n",
       " 'y',\n",
       " 'z',\n",
       " '0-9',\n",
       " '\\nAccount\\n\\nSign In\\nCreate an account\\n\\n',\n",
       " 'Sign In',\n",
       " 'Create an account',\n",
       " 'Drugs A-Z',\n",
       " 'Pill Identifier',\n",
       " 'Interactions Checker',\n",
       " 'News & Alerts',\n",
       " 'Pro Edition',\n",
       " 'More Resources',\n",
       " 'Treatments',\n",
       " 'Inflammatory Conditions',\n",
       " 'A-Hydrocort',\n",
       " 'Side Effects',\n",
       " 'Consumer',\n",
       " 'Professional',\n",
       " 'FAQ',\n",
       " 'injection powder for solution, injection solution',\n",
       " 'Aggression',\n",
       " 'anxiety',\n",
       " 'blurred vision',\n",
       " 'burning, dry, or itching eyes',\n",
       " 'decrease in the amount of urine',\n",
       " 'discharge, excessive tearing',\n",
       " 'dizziness',\n",
       " 'dry mouth',\n",
       " 'ear congestion',\n",
       " 'fast, slow, pounding, or irregular heartbeat or pulse',\n",
       " 'fever',\n",
       " 'headache',\n",
       " 'irregular heartbeats',\n",
       " 'irritability',\n",
       " 'mental depression',\n",
       " 'mood changes',\n",
       " 'noisy, rattling breathing',\n",
       " 'numbness or tingling in the arms or legs',\n",
       " 'pounding in the ears',\n",
       " 'redness, pain, swelling of eye, eyelid, or inner lining of the eyelid',\n",
       " 'restlessness',\n",
       " 'runny or stuffy nose',\n",
       " 'shaking',\n",
       " 'sneezing',\n",
       " 'sore throat',\n",
       " 'swelling of the fingers, hands, feet, or lower legs',\n",
       " 'trouble thinking, speaking, or walking',\n",
       " 'trouble breathing',\n",
       " 'trouble sleeping',\n",
       " 'unusual tiredness or weakness',\n",
       " 'weight gain',\n",
       " 'Backache',\n",
       " 'bloody, black, or tarry stools',\n",
       " 'cough or hoarseness',\n",
       " 'darkening of the skin',\n",
       " 'decrease in height',\n",
       " 'decreased vision',\n",
       " 'diarrhea',\n",
       " 'eye pain',\n",
       " 'eye tearing',\n",
       " 'facial hair growth in females',\n",
       " 'fainting',\n",
       " 'fever or chills',\n",
       " 'flushed, dry skin',\n",
       " 'fractures',\n",
       " 'fruit-like breath odor',\n",
       " 'full or round face, neck, or trunk',\n",
       " 'heartburn or indigestion (severe and continuous)',\n",
       " 'increased hunger',\n",
       " 'increased thirst',\n",
       " 'increased urination',\n",
       " 'loss of appetite',\n",
       " 'loss of sexual desire or ability',\n",
       " 'lower back or side pain',\n",
       " 'menstrual irregularities',\n",
       " 'muscle pain or tenderness',\n",
       " 'muscle wasting or weakness',\n",
       " 'nausea',\n",
       " 'pain in the back, ribs, arms, or legs',\n",
       " 'painful or difficult urination',\n",
       " 'skin rash',\n",
       " 'stomach pain or cramps',\n",
       " 'sweating',\n",
       " 'trouble healing',\n",
       " 'unexplained weight loss',\n",
       " 'vision changes',\n",
       " 'vomiting',\n",
       " 'vomiting of material that looks like coffee grounds',\n",
       " 'Hives',\n",
       " 'increased appetite',\n",
       " 'large, hive-like swelling on the face, eyelids, lips, tongue, throat, hands, legs, feet, or sex organs',\n",
       " 'puffiness or swelling of the eyelids or around the eyes, face, or lips',\n",
       " 'Abnormal fat deposits on the face, neck, and trunk',\n",
       " 'acne',\n",
       " 'dry scalp',\n",
       " 'lightening of normal skin color',\n",
       " 'red face',\n",
       " 'reddish purple lines on the arms, face, legs, trunk, or groin',\n",
       " 'swelling of the stomach area',\n",
       " 'thinning of the scalp hair',\n",
       " 'Is this drug the same as hydrocortisone?',\n",
       " 'What is the difference between hydrocortisone and cortisone?',\n",
       " 'How long does it take for neomycin, polymyxin b and hydrocortisone ear drops to work?',\n",
       " 'During Pregnancy or \\nBreastfeeding',\n",
       " 'Dosage Information',\n",
       " 'Drug Interactions',\n",
       " 'Drug class: glucocorticoids',\n",
       " 'Advanced Reading',\n",
       " 'Prescribing Information',\n",
       " 'Inflammatory Conditions',\n",
       " 'Help Center',\n",
       " 'Sitemap',\n",
       " 'Contact Us',\n",
       " 'About Drugs.com',\n",
       " 'Advertising Policy',\n",
       " 'Attribution & Citations',\n",
       " 'Editorial Policy',\n",
       " 'Privacy Policy\\n',\n",
       " 'Terms of Use',\n",
       " '\\n\\nFollow Drugs.com on Facebook  \\n',\n",
       " '\\n\\nFollow Drugs.com on Twitter  \\n',\n",
       " '\\n\\nFollow Drugs.com on Pinterest  \\n',\n",
       " '\\n\\nFollow Drugs.com on YouTube  \\n',\n",
       " '\\n\\nSubscribe to our Newsletters  \\n',\n",
       " '\\n\\n\\n\\n',\n",
       " '\\n\\n\\n\\nAd Choices\\n\\n\\n',\n",
       " '\\n\\nWe comply with the HONcode standard for trustworthy health information. Verify here\\n',\n",
       " '\\nCopyright © 2000-2021 Drugs.com. All rights reserved.\\n']"
      ]
     },
     "execution_count": 258,
     "metadata": {},
     "output_type": "execute_result"
    }
   ],
   "source": [
    "result"
   ]
  },
  {
   "cell_type": "code",
   "execution_count": 93,
   "id": "d2259a50-12ec-4ac0-8ade-aa0c30b7bb6e",
   "metadata": {},
   "outputs": [],
   "source": [
    "i = soup.html.body.main.div.div.div"
   ]
  },
  {
   "cell_type": "code",
   "execution_count": 92,
   "id": "46bc2b39-0c86-4fb8-9c83-7448775ac3f2",
   "metadata": {},
   "outputs": [
    {
     "name": "stdout",
     "output_type": "stream",
     "text": [
      "\n",
      "\n"
     ]
    }
   ],
   "source": [
    "print(i.next_sibling)"
   ]
  },
  {
   "cell_type": "code",
   "execution_count": 118,
   "id": "127aa77e-d555-4ac8-b3bd-bcc18e3889cb",
   "metadata": {},
   "outputs": [],
   "source": [
    "result = []"
   ]
  },
  {
   "cell_type": "code",
   "execution_count": 15,
   "id": "e4b7a29c-93ba-4f69-89f6-7b0626ada21e",
   "metadata": {},
   "outputs": [
    {
     "ename": "TypeError",
     "evalue": "object of type 'Response' has no len()",
     "output_type": "error",
     "traceback": [
      "\u001b[0;31m---------------------------------------------------------------------------\u001b[0m",
      "\u001b[0;31mTypeError\u001b[0m                                 Traceback (most recent call last)",
      "\u001b[0;32m<ipython-input-15-6322a5625859>\u001b[0m in \u001b[0;36m<module>\u001b[0;34m\u001b[0m\n\u001b[1;32m      1\u001b[0m \u001b[0;32mfrom\u001b[0m \u001b[0mbs4\u001b[0m \u001b[0;32mimport\u001b[0m \u001b[0mBeautifulSoup\u001b[0m\u001b[0;34m\u001b[0m\u001b[0;34m\u001b[0m\u001b[0m\n\u001b[1;32m      2\u001b[0m \u001b[0;34m\u001b[0m\u001b[0m\n\u001b[0;32m----> 3\u001b[0;31m \u001b[0msoup\u001b[0m \u001b[0;34m=\u001b[0m \u001b[0mBeautifulSoup\u001b[0m\u001b[0;34m(\u001b[0m\u001b[0mres\u001b[0m\u001b[0;34m)\u001b[0m\u001b[0;34m\u001b[0m\u001b[0;34m\u001b[0m\u001b[0m\n\u001b[0m\u001b[1;32m      4\u001b[0m \u001b[0;34m\u001b[0m\u001b[0m\n\u001b[1;32m      5\u001b[0m \u001b[0;32mdef\u001b[0m \u001b[0mprint_element\u001b[0m\u001b[0;34m(\u001b[0m\u001b[0melem\u001b[0m\u001b[0;34m)\u001b[0m\u001b[0;34m:\u001b[0m\u001b[0;34m\u001b[0m\u001b[0;34m\u001b[0m\u001b[0m\n",
      "\u001b[0;32m~/opt/anaconda3/lib/python3.8/site-packages/bs4/__init__.py\u001b[0m in \u001b[0;36m__init__\u001b[0;34m(self, markup, features, builder, parse_only, from_encoding, exclude_encodings, element_classes, **kwargs)\u001b[0m\n\u001b[1;32m    308\u001b[0m         \u001b[0;32mif\u001b[0m \u001b[0mhasattr\u001b[0m\u001b[0;34m(\u001b[0m\u001b[0mmarkup\u001b[0m\u001b[0;34m,\u001b[0m \u001b[0;34m'read'\u001b[0m\u001b[0;34m)\u001b[0m\u001b[0;34m:\u001b[0m        \u001b[0;31m# It's a file-type object.\u001b[0m\u001b[0;34m\u001b[0m\u001b[0;34m\u001b[0m\u001b[0m\n\u001b[1;32m    309\u001b[0m             \u001b[0mmarkup\u001b[0m \u001b[0;34m=\u001b[0m \u001b[0mmarkup\u001b[0m\u001b[0;34m.\u001b[0m\u001b[0mread\u001b[0m\u001b[0;34m(\u001b[0m\u001b[0;34m)\u001b[0m\u001b[0;34m\u001b[0m\u001b[0;34m\u001b[0m\u001b[0m\n\u001b[0;32m--> 310\u001b[0;31m         elif len(markup) <= 256 and (\n\u001b[0m\u001b[1;32m    311\u001b[0m                 \u001b[0;34m(\u001b[0m\u001b[0misinstance\u001b[0m\u001b[0;34m(\u001b[0m\u001b[0mmarkup\u001b[0m\u001b[0;34m,\u001b[0m \u001b[0mbytes\u001b[0m\u001b[0;34m)\u001b[0m \u001b[0;32mand\u001b[0m \u001b[0;32mnot\u001b[0m \u001b[0;34mb'<'\u001b[0m \u001b[0;32min\u001b[0m \u001b[0mmarkup\u001b[0m\u001b[0;34m)\u001b[0m\u001b[0;34m\u001b[0m\u001b[0;34m\u001b[0m\u001b[0m\n\u001b[1;32m    312\u001b[0m                 \u001b[0;32mor\u001b[0m \u001b[0;34m(\u001b[0m\u001b[0misinstance\u001b[0m\u001b[0;34m(\u001b[0m\u001b[0mmarkup\u001b[0m\u001b[0;34m,\u001b[0m \u001b[0mstr\u001b[0m\u001b[0;34m)\u001b[0m \u001b[0;32mand\u001b[0m \u001b[0;32mnot\u001b[0m \u001b[0;34m'<'\u001b[0m \u001b[0;32min\u001b[0m \u001b[0mmarkup\u001b[0m\u001b[0;34m)\u001b[0m\u001b[0;34m\u001b[0m\u001b[0;34m\u001b[0m\u001b[0m\n",
      "\u001b[0;31mTypeError\u001b[0m: object of type 'Response' has no len()"
     ]
    }
   ],
   "source": [
    "from bs4 import BeautifulSoup\n",
    "\n",
    "soup = BeautifulSoup(res.text, 'html.parser')\n",
    "\n",
    "def print_element(elem):\n",
    "    if isinstance(elem, bs4.NavigableString):\n",
    "        print(type(elem), elem.string)\n",
    "    else:\n",
    "        print(type(elem), elem.name)"
   ]
  },
  {
   "cell_type": "code",
   "execution_count": 159,
   "id": "e16417ba-abfc-4468-a04a-cec1eb7f1a24",
   "metadata": {},
   "outputs": [],
   "source": [
    "#soup.find_all('h3')[0]"
   ]
  },
  {
   "cell_type": "code",
   "execution_count": 158,
   "id": "df6ab0e4-0c42-4881-b7e0-2578e4d5b720",
   "metadata": {},
   "outputs": [],
   "source": [
    "#len(soup.find_all('h3'))"
   ]
  },
  {
   "cell_type": "code",
   "execution_count": 157,
   "id": "f1921487-2947-4c22-b6b7-9871ce264411",
   "metadata": {},
   "outputs": [],
   "source": [
    "#soup.find_all('i')"
   ]
  },
  {
   "cell_type": "code",
   "execution_count": 155,
   "id": "ca82370a-4d19-4790-a46e-d519747d2af3",
   "metadata": {},
   "outputs": [],
   "source": [
    "#soup.find_all('ul')"
   ]
  },
  {
   "cell_type": "code",
   "execution_count": 148,
   "id": "c39e21b0-2055-4626-a2a6-b0f920bbf611",
   "metadata": {},
   "outputs": [],
   "source": [
    "ns = h3.findNextSiblings()"
   ]
  },
  {
   "cell_type": "code",
   "execution_count": 156,
   "id": "6b91d18f-ec3b-42c7-ae26-d9430062bb68",
   "metadata": {},
   "outputs": [],
   "source": [
    "#print(ns)"
   ]
  },
  {
   "cell_type": "code",
   "execution_count": null,
   "id": "94a668bf-5397-4fff-9489-b0ba1971a72e",
   "metadata": {},
   "outputs": [],
   "source": [
    "driver.switch_to.window(driver.window_handles[1])"
   ]
  },
  {
   "cell_type": "code",
   "execution_count": 39,
   "id": "4795a3a2-939a-4b34-8dbb-b093db6e4881",
   "metadata": {},
   "outputs": [],
   "source": [
    "driver.close()\n",
    "driver.switch_to.window(driver.window_handles[0])"
   ]
  },
  {
   "cell_type": "code",
   "execution_count": 262,
   "id": "36ec90aa-ac87-4375-adaf-cfac1db716e8",
   "metadata": {},
   "outputs": [],
   "source": [
    "driver.quit()"
   ]
  },
  {
   "cell_type": "code",
   "execution_count": null,
   "id": "e4bd4120-f717-4362-bf46-93349afa972a",
   "metadata": {},
   "outputs": [],
   "source": []
  }
 ],
 "metadata": {
  "kernelspec": {
   "display_name": "Python 3",
   "language": "python",
   "name": "python3"
  },
  "language_info": {
   "codemirror_mode": {
    "name": "ipython",
    "version": 3
   },
   "file_extension": ".py",
   "mimetype": "text/x-python",
   "name": "python",
   "nbconvert_exporter": "python",
   "pygments_lexer": "ipython3",
   "version": "3.8.8"
  }
 },
 "nbformat": 4,
 "nbformat_minor": 5
}

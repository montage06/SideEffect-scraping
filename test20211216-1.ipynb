{
 "cells": [
  {
   "cell_type": "code",
   "execution_count": 1,
   "id": "acaf000b-f270-4f46-b5f0-99cbd3c34fc7",
   "metadata": {},
   "outputs": [],
   "source": [
    "import re\n",
    "import os\n",
    "import pandas as pd\n",
    "import requests\n",
    "from bs4 import BeautifulSoup\n",
    "from selenium import webdriver\n",
    "from selenium.webdriver.common.keys import Keys\n",
    "from selenium.webdriver.common.action_chains import ActionChains\n",
    "from selenium.webdriver.support.ui import WebDriverWait\n",
    "from selenium.webdriver.support import expected_conditions as EC\n",
    "from selenium.webdriver.common.by import By\n",
    "from selenium.webdriver.support.select import Select\n",
    "from time import sleep\n",
    "from webdriver_manager.chrome import ChromeDriverManager\n",
    "driver = webdriver.Chrome('/Users/glicia/python/chromedriver')"
   ]
  },
  {
   "cell_type": "code",
   "execution_count": 2,
   "id": "81db48e2-58db-4453-b689-f64a072d5e0b",
   "metadata": {},
   "outputs": [],
   "source": [
    "url = 'https://www.drugs.com/sfx-r1.html'\n",
    "##########\n",
    "\n",
    "\n",
    "driver.get(url)"
   ]
  },
  {
   "cell_type": "code",
   "execution_count": 3,
   "id": "7843c070-72a4-4af0-8b97-3bdbfad44ec1",
   "metadata": {},
   "outputs": [],
   "source": [
    "repatha = driver.find_element_by_css_selector('#content > div.contentBox > ul.ddc-list-column-2 > li:nth-child(82) > a').get_attribute('href')"
   ]
  },
  {
   "cell_type": "code",
   "execution_count": null,
   "id": "18349975-9957-430c-b961-e7457e9ad5bb",
   "metadata": {},
   "outputs": [],
   "source": []
  },
  {
   "cell_type": "code",
   "execution_count": 4,
   "id": "35619e92-ede7-46a1-acc8-898decc0e02d",
   "metadata": {},
   "outputs": [],
   "source": [
    "res = requests.get(repatha)\n",
    "soup = BeautifulSoup(res.text, 'html.parser')"
   ]
  },
  {
   "cell_type": "code",
   "execution_count": 5,
   "id": "0326c71f-71d9-4a02-b0a6-851ef729034c",
   "metadata": {},
   "outputs": [],
   "source": [
    "#print(soup.prettify())"
   ]
  },
  {
   "cell_type": "code",
   "execution_count": 10,
   "id": "8976e95b-85d5-4ed3-a764-1c3f5fc9b2bd",
   "metadata": {},
   "outputs": [],
   "source": [
    "soup.find('head').decompose()"
   ]
  },
  {
   "cell_type": "code",
   "execution_count": 16,
   "id": "fdea179f-5e8b-4087-8d99-c56c3074e578",
   "metadata": {},
   "outputs": [],
   "source": [
    "#soup"
   ]
  },
  {
   "cell_type": "code",
   "execution_count": 14,
   "id": "2063fa53-d1ea-4f92-8e6d-949564896ff6",
   "metadata": {},
   "outputs": [],
   "source": [
    "soup.find(class_='ddc-social-share').decompose()"
   ]
  },
  {
   "cell_type": "code",
   "execution_count": 17,
   "id": "593d554e-8d3d-4ff5-98d6-4da435682e45",
   "metadata": {},
   "outputs": [],
   "source": [
    "#soup"
   ]
  },
  {
   "cell_type": "code",
   "execution_count": 109,
   "id": "47d786fa-a0b3-4ef6-b093-ab9359b9b5d3",
   "metadata": {},
   "outputs": [
    {
     "ename": "AttributeError",
     "evalue": "'NoneType' object has no attribute 'decompose'",
     "output_type": "error",
     "traceback": [
      "\u001b[0;31m---------------------------------------------------------------------------\u001b[0m",
      "\u001b[0;31mAttributeError\u001b[0m                            Traceback (most recent call last)",
      "\u001b[0;32m<ipython-input-109-6f3e5961e7e0>\u001b[0m in \u001b[0;36m<module>\u001b[0;34m\u001b[0m\n\u001b[0;32m----> 1\u001b[0;31m \u001b[0msoup\u001b[0m\u001b[0;34m.\u001b[0m\u001b[0mfind\u001b[0m\u001b[0;34m(\u001b[0m\u001b[0;34m'script'\u001b[0m\u001b[0;34m)\u001b[0m\u001b[0;34m.\u001b[0m\u001b[0mdecompose\u001b[0m\u001b[0;34m(\u001b[0m\u001b[0;34m)\u001b[0m\u001b[0;34m\u001b[0m\u001b[0;34m\u001b[0m\u001b[0m\n\u001b[0m",
      "\u001b[0;31mAttributeError\u001b[0m: 'NoneType' object has no attribute 'decompose'"
     ]
    }
   ],
   "source": [
    "soup.find('script').decompose()"
   ]
  },
  {
   "cell_type": "code",
   "execution_count": 20,
   "id": "9807b73a-bd2a-4ff1-b81f-00a6aee7425c",
   "metadata": {},
   "outputs": [],
   "source": [
    "soup.find('img').decompose()"
   ]
  },
  {
   "cell_type": "code",
   "execution_count": 22,
   "id": "42edf0c3-c09a-4533-b8cf-45e2f3bd7ae3",
   "metadata": {},
   "outputs": [],
   "source": [
    "soup.find('span').decompose()"
   ]
  },
  {
   "cell_type": "code",
   "execution_count": 24,
   "id": "f43bb363-bc01-4c1d-9861-caaafb473ba7",
   "metadata": {},
   "outputs": [],
   "source": [
    "#soup"
   ]
  },
  {
   "cell_type": "code",
   "execution_count": 27,
   "id": "334db6f4-a524-43e5-b700-5dbd7d7dfa5a",
   "metadata": {},
   "outputs": [],
   "source": [
    "soup.find('span').decompose()"
   ]
  },
  {
   "cell_type": "code",
   "execution_count": 28,
   "id": "17b03a12-4264-4fad-84d4-9ea20db388b6",
   "metadata": {},
   "outputs": [],
   "source": [
    "soup.find('span').decompose()"
   ]
  },
  {
   "cell_type": "code",
   "execution_count": 63,
   "id": "7a86adba-fb3c-47b8-b966-6feda6b86379",
   "metadata": {},
   "outputs": [],
   "source": [
    "soup.find('span').decompose()"
   ]
  },
  {
   "cell_type": "code",
   "execution_count": 64,
   "id": "9a97b9a2-1be2-454b-b8cb-fdc2c43322e9",
   "metadata": {},
   "outputs": [],
   "source": [
    "soup.find('span').decompose()"
   ]
  },
  {
   "cell_type": "code",
   "execution_count": 67,
   "id": "7020eded-88b4-464b-ab2e-d56f0182eb52",
   "metadata": {},
   "outputs": [],
   "source": [
    "soup.find('span').decompose()"
   ]
  },
  {
   "cell_type": "code",
   "execution_count": 68,
   "id": "43c7f19a-8f2c-4a51-ace6-50eb10f2bd69",
   "metadata": {},
   "outputs": [],
   "source": [
    "soup.find('span').decompose()"
   ]
  },
  {
   "cell_type": "code",
   "execution_count": 69,
   "id": "bac36311-933c-47c1-8f6b-61af74b74526",
   "metadata": {},
   "outputs": [
    {
     "ename": "AttributeError",
     "evalue": "'NoneType' object has no attribute 'decompose'",
     "output_type": "error",
     "traceback": [
      "\u001b[0;31m---------------------------------------------------------------------------\u001b[0m",
      "\u001b[0;31mAttributeError\u001b[0m                            Traceback (most recent call last)",
      "\u001b[0;32m<ipython-input-69-0ac4100c8979>\u001b[0m in \u001b[0;36m<module>\u001b[0;34m\u001b[0m\n\u001b[0;32m----> 1\u001b[0;31m \u001b[0msoup\u001b[0m\u001b[0;34m.\u001b[0m\u001b[0mfind\u001b[0m\u001b[0;34m(\u001b[0m\u001b[0;34m'span'\u001b[0m\u001b[0;34m)\u001b[0m\u001b[0;34m.\u001b[0m\u001b[0mdecompose\u001b[0m\u001b[0;34m(\u001b[0m\u001b[0;34m)\u001b[0m\u001b[0;34m\u001b[0m\u001b[0;34m\u001b[0m\u001b[0m\n\u001b[0m",
      "\u001b[0;31mAttributeError\u001b[0m: 'NoneType' object has no attribute 'decompose'"
     ]
    }
   ],
   "source": [
    "soup.find('span').decompose()"
   ]
  },
  {
   "cell_type": "code",
   "execution_count": 102,
   "id": "2b600300-64a9-4c67-869e-f250fd29a611",
   "metadata": {},
   "outputs": [
    {
     "data": {
      "text/plain": [
       "[]"
      ]
     },
     "execution_count": 102,
     "metadata": {},
     "output_type": "execute_result"
    }
   ],
   "source": [
    "soup.find_all('svg')"
   ]
  },
  {
   "cell_type": "code",
   "execution_count": 101,
   "id": "bd38f1ac-7be2-4c13-bf25-aa0f904ca072",
   "metadata": {},
   "outputs": [
    {
     "ename": "AttributeError",
     "evalue": "'NoneType' object has no attribute 'decompose'",
     "output_type": "error",
     "traceback": [
      "\u001b[0;31m---------------------------------------------------------------------------\u001b[0m",
      "\u001b[0;31mAttributeError\u001b[0m                            Traceback (most recent call last)",
      "\u001b[0;32m<ipython-input-101-5a9cb594926a>\u001b[0m in \u001b[0;36m<module>\u001b[0;34m\u001b[0m\n\u001b[0;32m----> 1\u001b[0;31m \u001b[0msoup\u001b[0m\u001b[0;34m.\u001b[0m\u001b[0mfind\u001b[0m\u001b[0;34m(\u001b[0m\u001b[0;34m'svg'\u001b[0m\u001b[0;34m)\u001b[0m\u001b[0;34m.\u001b[0m\u001b[0mdecompose\u001b[0m\u001b[0;34m(\u001b[0m\u001b[0;34m)\u001b[0m\u001b[0;34m\u001b[0m\u001b[0;34m\u001b[0m\u001b[0m\n\u001b[0m",
      "\u001b[0;31mAttributeError\u001b[0m: 'NoneType' object has no attribute 'decompose'"
     ]
    }
   ],
   "source": [
    "soup.find('svg').decompose()"
   ]
  },
  {
   "cell_type": "code",
   "execution_count": 104,
   "id": "8ed9de76-d96d-4e9f-b86d-224b73dce616",
   "metadata": {},
   "outputs": [],
   "source": [
    "soup.find(id=\"footer\").decompose()"
   ]
  },
  {
   "cell_type": "code",
   "execution_count": 122,
   "id": "b5567f9f-517b-43ff-86d6-2f4a30fb47d6",
   "metadata": {},
   "outputs": [
    {
     "ename": "AttributeError",
     "evalue": "'NoneType' object has no attribute 'decompose'",
     "output_type": "error",
     "traceback": [
      "\u001b[0;31m---------------------------------------------------------------------------\u001b[0m",
      "\u001b[0;31mAttributeError\u001b[0m                            Traceback (most recent call last)",
      "\u001b[0;32m<ipython-input-122-1db875979fd4>\u001b[0m in \u001b[0;36m<module>\u001b[0;34m\u001b[0m\n\u001b[0;32m----> 1\u001b[0;31m \u001b[0msoup\u001b[0m\u001b[0;34m.\u001b[0m\u001b[0mfind\u001b[0m\u001b[0;34m(\u001b[0m\u001b[0mclass_\u001b[0m\u001b[0;34m=\u001b[0m\u001b[0;34m\"sideBoxStackedAdWrap\"\u001b[0m\u001b[0;34m)\u001b[0m\u001b[0;34m.\u001b[0m\u001b[0mdecompose\u001b[0m\u001b[0;34m(\u001b[0m\u001b[0;34m)\u001b[0m\u001b[0;34m\u001b[0m\u001b[0;34m\u001b[0m\u001b[0m\n\u001b[0m",
      "\u001b[0;31mAttributeError\u001b[0m: 'NoneType' object has no attribute 'decompose'"
     ]
    }
   ],
   "source": [
    "soup.find(class_=\"sideBoxStackedAdWrap\").decompose()"
   ]
  },
  {
   "cell_type": "code",
   "execution_count": 144,
   "id": "b71458dd-3388-49f8-b250-39a645d39586",
   "metadata": {},
   "outputs": [],
   "source": [
    "soup.find(class_=\"referenceList\").decompose()"
   ]
  },
  {
   "cell_type": "code",
   "execution_count": 147,
   "id": "1e7e9559-d404-46bb-8424-d95a85fe8cb3",
   "metadata": {},
   "outputs": [],
   "source": [
    "soup = soup.find(class_='contentBox')"
   ]
  },
  {
   "cell_type": "code",
   "execution_count": 149,
   "id": "af7cac77-9fc2-4c5f-af0e-b01cd313bbd1",
   "metadata": {},
   "outputs": [
    {
     "data": {
      "text/plain": [
       "[<h3>Side effects requiring immediate medical attention</h3>,\n",
       " <h3>Side effects not requiring immediate medical attention</h3>,\n",
       " <h3>General</h3>,\n",
       " <h3>Hypersensitivity</h3>,\n",
       " <h3>Cardiovascular</h3>,\n",
       " <h3>Gastrointestinal</h3>,\n",
       " <h3>Genitourinary</h3>,\n",
       " <h3>Local</h3>,\n",
       " <h3>Musculoskeletal</h3>,\n",
       " <h3>Nervous system</h3>,\n",
       " <h3>Other</h3>,\n",
       " <h3>Respiratory</h3>,\n",
       " <h3>Immunologic</h3>]"
      ]
     },
     "execution_count": 149,
     "metadata": {},
     "output_type": "execute_result"
    }
   ],
   "source": [
    "soup.find_all('h3')"
   ]
  },
  {
   "cell_type": "code",
   "execution_count": 170,
   "id": "2642fc3b-7f47-4bc7-8b36-a2510811ccab",
   "metadata": {},
   "outputs": [
    {
     "data": {
      "text/plain": [
       "'\\n'"
      ]
     },
     "execution_count": 170,
     "metadata": {},
     "output_type": "execute_result"
    }
   ],
   "source": [
    "soup.h3.next_element.next_element.next_element.next_element.next_element.next_element.next_element"
   ]
  },
  {
   "cell_type": "code",
   "execution_count": 171,
   "id": "e8b9b867-98ad-484e-ab8e-a41043a0ca2f",
   "metadata": {},
   "outputs": [],
   "source": [
    "driver.quit()"
   ]
  },
  {
   "cell_type": "code",
   "execution_count": null,
   "id": "9425c2bb-76ee-40e3-a922-43d654a098b1",
   "metadata": {},
   "outputs": [],
   "source": []
  }
 ],
 "metadata": {
  "kernelspec": {
   "display_name": "Python 3",
   "language": "python",
   "name": "python3"
  },
  "language_info": {
   "codemirror_mode": {
    "name": "ipython",
    "version": 3
   },
   "file_extension": ".py",
   "mimetype": "text/x-python",
   "name": "python",
   "nbconvert_exporter": "python",
   "pygments_lexer": "ipython3",
   "version": "3.8.8"
  }
 },
 "nbformat": 4,
 "nbformat_minor": 5
}
